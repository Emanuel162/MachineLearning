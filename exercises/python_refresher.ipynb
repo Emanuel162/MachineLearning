{
  "nbformat": 4,
  "nbformat_minor": 0,
  "metadata": {
    "colab": {
      "provenance": [],
      "toc_visible": true
    },
    "kernelspec": {
      "name": "python3",
      "display_name": "Python 3"
    },
    "language_info": {
      "name": "python"
    }
  },
  "cells": [
    {
      "cell_type": "markdown",
      "source": [
        "# Machine Learning course\n",
        "\n",
        "For any doubts/questions feel free to contact us by using the forum on ILIAS.\n",
        "\n",
        "\n",
        "---\n",
        "\n",
        "\n",
        "As your environment you can use Google Colab or just set up your own Python/[Jupyter](https://jupyter.org/install) environment.\n",
        "\n",
        "# Python refresher\n",
        "\n",
        "This notebook reviews the usage of the Python language, in patricular of the today mostly used libraries for scientific computing [NumPy](https://numpy.org/) and [Pytorch](https://pytorch.org/).\n"
      ],
      "metadata": {
        "id": "T4sfishMxN9f"
      }
    },
    {
      "cell_type": "markdown",
      "source": [
        "## Fibonacci: The Very Basic Python\n",
        "\n",
        "This exercise is only designed to refresh your \"very basic python\" skills.\n",
        "\n",
        "We are supposed to write a function computing the Fibonacci's i-th element.\n",
        "\n",
        "We want to find the $i$-th element of the Fibonacci function as it is $$f(i) = f(i - 1) + f(i - 2)$$"
      ],
      "metadata": {
        "id": "88zEWXgdMDSz"
      }
    },
    {
      "cell_type": "code",
      "source": [
        "# @title 👀 Solution\n",
        "\n",
        "def fib(n):\n",
        "  if n < 2:\n",
        "    return 1\n",
        "  else:\n",
        "    computed_fib_result = [1, 1]\n",
        "\n",
        "    for i in range(len(computed_fib_result), n + 1):\n",
        "      value = computed_fib_result[i - 1] + computed_fib_result[i - 2]\n",
        "      computed_fib_result.append(value)\n",
        "\n",
        "    return computed_fib_result[-1]"
      ],
      "metadata": {
        "id": "M-ekxPjqMXf2",
        "cellView": "form"
      },
      "execution_count": null,
      "outputs": []
    },
    {
      "cell_type": "code",
      "source": [
        "fib(10)"
      ],
      "metadata": {
        "id": "eyukezmHMXdi",
        "outputId": "f1cb0026-796f-490d-e0a6-f778d9a97824",
        "colab": {
          "base_uri": "https://localhost:8080/"
        }
      },
      "execution_count": null,
      "outputs": [
        {
          "output_type": "execute_result",
          "data": {
            "text/plain": [
              "89"
            ]
          },
          "metadata": {},
          "execution_count": 2
        }
      ]
    },
    {
      "cell_type": "code",
      "source": [
        "[fib(n) for n in range(10 + 1)]"
      ],
      "metadata": {
        "id": "qFfeFIn3MXQj",
        "outputId": "05d651b2-9bce-4592-aba1-ee2e9debfb3a",
        "colab": {
          "base_uri": "https://localhost:8080/"
        }
      },
      "execution_count": null,
      "outputs": [
        {
          "output_type": "execute_result",
          "data": {
            "text/plain": [
              "[1, 1, 2, 3, 5, 8, 13, 21, 34, 55, 89]"
            ]
          },
          "metadata": {},
          "execution_count": 3
        }
      ]
    },
    {
      "cell_type": "markdown",
      "source": [
        "## Numpy and PyTorch\n",
        "\n",
        "The main common feature of these two frameworks is the adoption of tensors as the fundamental data structure. Numpy was the first library introducing a convenient Python interface for working with multi-dimensional array data structures efficiently and for this reason we will focus on it in this notebook. Subsequently, Pytorch (but also other deep learning frameworks) builds on it by introducing new functionalities like the support for GPU to speed up the computation.\n",
        "\n",
        "Note that most of the examples presented in NumPy can be done analogously in Pytorch. When it doesn't apply straightforwardly we will indicate it."
      ],
      "metadata": {
        "id": "qTHVwQzRrPiH"
      }
    },
    {
      "cell_type": "code",
      "source": [
        "import numpy as np\n",
        "import torch"
      ],
      "metadata": {
        "id": "WzTIcFVgrURj"
      },
      "execution_count": null,
      "outputs": []
    },
    {
      "cell_type": "markdown",
      "source": [
        "# NumPy\n",
        "\n",
        "NumPy is built around `ndarrays` objects, which are high-performance multi-dimensional array data structures. Intuitively, we can think of a one-dimensional NumPy array as a data structure to represent a vector of elements – you may think of it as a fixed-size Python list where all elements share the same type. Similarly, we can think of a two-dimensional array as a data structure to represent a matrix or a Python list of lists."
      ],
      "metadata": {
        "id": "Lr40YrOJ0wwv"
      }
    },
    {
      "cell_type": "markdown",
      "source": [
        "### Tensor instantiation\n",
        "Tensors in NumPy are instantiated using the function `array` and passing to it a Python list of homogeneous elements"
      ],
      "metadata": {
        "id": "jzuL3Rwv7c6W"
      }
    },
    {
      "cell_type": "code",
      "source": [
        "np.array([1, 2, 3, 4])"
      ],
      "metadata": {
        "colab": {
          "base_uri": "https://localhost:8080/"
        },
        "id": "WX7-LETe1s6D",
        "outputId": "b572782f-1784-449e-a1b3-a3566dc57978"
      },
      "execution_count": null,
      "outputs": [
        {
          "output_type": "execute_result",
          "data": {
            "text/plain": [
              "array([1, 2, 3, 4])"
            ]
          },
          "metadata": {},
          "execution_count": 5
        }
      ]
    },
    {
      "cell_type": "markdown",
      "source": [
        "NumPy also comes with functions to directly create special kind of tensors"
      ],
      "metadata": {
        "id": "24o_fAat3NrT"
      }
    },
    {
      "cell_type": "code",
      "source": [
        "np.ones((3, 4))"
      ],
      "metadata": {
        "colab": {
          "base_uri": "https://localhost:8080/"
        },
        "id": "2Yn-4rwT4l7w",
        "outputId": "bfeedc42-0e96-4007-a246-856c6cdc9524"
      },
      "execution_count": null,
      "outputs": [
        {
          "output_type": "execute_result",
          "data": {
            "text/plain": [
              "array([[1., 1., 1., 1.],\n",
              "       [1., 1., 1., 1.],\n",
              "       [1., 1., 1., 1.]])"
            ]
          },
          "metadata": {},
          "execution_count": 6
        }
      ]
    },
    {
      "cell_type": "code",
      "source": [
        "np.zeros((3, 3))"
      ],
      "metadata": {
        "colab": {
          "base_uri": "https://localhost:8080/"
        },
        "id": "HThMxzpw4qvv",
        "outputId": "a45953b6-a6b8-4ac0-a56a-63842c425fc9"
      },
      "execution_count": null,
      "outputs": [
        {
          "output_type": "execute_result",
          "data": {
            "text/plain": [
              "array([[0., 0., 0.],\n",
              "       [0., 0., 0.],\n",
              "       [0., 0., 0.]])"
            ]
          },
          "metadata": {},
          "execution_count": 7
        }
      ]
    },
    {
      "cell_type": "code",
      "source": [
        "np.eye(4)"
      ],
      "metadata": {
        "colab": {
          "base_uri": "https://localhost:8080/"
        },
        "id": "DsShexVB4rAd",
        "outputId": "05a90397-7a9f-4d9e-d28f-8259dfe1d720"
      },
      "execution_count": null,
      "outputs": [
        {
          "output_type": "execute_result",
          "data": {
            "text/plain": [
              "array([[1., 0., 0., 0.],\n",
              "       [0., 1., 0., 0.],\n",
              "       [0., 0., 1., 0.],\n",
              "       [0., 0., 0., 1.]])"
            ]
          },
          "metadata": {},
          "execution_count": 8
        }
      ]
    },
    {
      "cell_type": "markdown",
      "source": [
        "It is also possible to create tensors representing a sequence of numbers.\n",
        "- NumPy’s `arange` function follows the same syntax as Python’s `range` objects: If two arguments are provided, the first argument represents the start value and the second value defines the stop value of a half-open interval\n",
        "- The linspace function is especially useful if we want to create a particular number of evenly spaced values in a specified half-open interval"
      ],
      "metadata": {
        "id": "4fleenvX4-az"
      }
    },
    {
      "cell_type": "code",
      "source": [
        "np.arange(0, 10)"
      ],
      "metadata": {
        "colab": {
          "base_uri": "https://localhost:8080/"
        },
        "id": "u-HnMjbE5wag",
        "outputId": "e32d4c45-2563-40d4-99e7-4aa9b3622e92"
      },
      "execution_count": null,
      "outputs": [
        {
          "output_type": "execute_result",
          "data": {
            "text/plain": [
              "array([0, 1, 2, 3, 4, 5, 6, 7, 8, 9])"
            ]
          },
          "metadata": {},
          "execution_count": 9
        }
      ]
    },
    {
      "cell_type": "code",
      "source": [
        "np.linspace(6., 15., num=10)"
      ],
      "metadata": {
        "colab": {
          "base_uri": "https://localhost:8080/"
        },
        "id": "ynAhp689514b",
        "outputId": "14601d8a-32a9-465a-9a16-86054ddc0cfe"
      },
      "execution_count": null,
      "outputs": [
        {
          "output_type": "execute_result",
          "data": {
            "text/plain": [
              "array([ 6.,  7.,  8.,  9., 10., 11., 12., 13., 14., 15.])"
            ]
          },
          "metadata": {},
          "execution_count": 10
        }
      ]
    },
    {
      "cell_type": "markdown",
      "source": [
        "### Tensor properties\n",
        "\n",
        "By default, NumPy infers the **type** of the tensor upon construction"
      ],
      "metadata": {
        "id": "ymoj7vhV58vT"
      }
    },
    {
      "cell_type": "code",
      "source": [
        "t = np.array([1., 2., 3.])\n",
        "t.dtype"
      ],
      "metadata": {
        "colab": {
          "base_uri": "https://localhost:8080/"
        },
        "id": "tIc9KN9k6hgX",
        "outputId": "754b00d7-38fc-4b8d-8260-acf1d43a058e"
      },
      "execution_count": null,
      "outputs": [
        {
          "output_type": "execute_result",
          "data": {
            "text/plain": [
              "dtype('float64')"
            ]
          },
          "metadata": {},
          "execution_count": 11
        }
      ]
    },
    {
      "cell_type": "markdown",
      "source": [
        "If we want to construct NumPy arrays of different types, we can pass an argument to the dtype parameter of the array function"
      ],
      "metadata": {
        "id": "Tk8wlZaf6xtN"
      }
    },
    {
      "cell_type": "code",
      "source": [
        "t = np.array([[1, 2, 3], [1, 2, 3]], dtype=np.float32)\n",
        "t"
      ],
      "metadata": {
        "colab": {
          "base_uri": "https://localhost:8080/"
        },
        "id": "GB4ld0xf6v8O",
        "outputId": "7a31930d-c6ab-414e-c559-df96ee8b1100"
      },
      "execution_count": null,
      "outputs": [
        {
          "output_type": "execute_result",
          "data": {
            "text/plain": [
              "array([[1., 2., 3.],\n",
              "       [1., 2., 3.]], dtype=float32)"
            ]
          },
          "metadata": {},
          "execution_count": 12
        }
      ]
    },
    {
      "cell_type": "markdown",
      "source": [
        "Once an array has been constructed, we can downcast or recast its type via the astype method"
      ],
      "metadata": {
        "id": "Zvw7LrvU6_0j"
      }
    },
    {
      "cell_type": "code",
      "source": [
        "t = t.astype(np.int32)\n",
        "t"
      ],
      "metadata": {
        "colab": {
          "base_uri": "https://localhost:8080/"
        },
        "id": "NPaIFBah7AJu",
        "outputId": "d1624de0-3da9-4df9-99cf-f4fc6d032f99"
      },
      "execution_count": null,
      "outputs": [
        {
          "output_type": "execute_result",
          "data": {
            "text/plain": [
              "array([[1, 2, 3],\n",
              "       [1, 2, 3]], dtype=int32)"
            ]
          },
          "metadata": {},
          "execution_count": 13
        }
      ]
    },
    {
      "cell_type": "markdown",
      "source": [
        "To return the **number of elements** in an array, we can use the `size` attribute"
      ],
      "metadata": {
        "id": "M9h2KM9_8WlZ"
      }
    },
    {
      "cell_type": "code",
      "source": [
        "t.size"
      ],
      "metadata": {
        "colab": {
          "base_uri": "https://localhost:8080/"
        },
        "id": "nXEGcWEU8idK",
        "outputId": "b7c2dde3-179c-455a-f719-4391edd6519b"
      },
      "execution_count": null,
      "outputs": [
        {
          "output_type": "execute_result",
          "data": {
            "text/plain": [
              "6"
            ]
          },
          "metadata": {},
          "execution_count": 14
        }
      ]
    },
    {
      "cell_type": "markdown",
      "source": [
        "If we are interested in the **number of elements along each array dimension** we can access the `shape` attribute"
      ],
      "metadata": {
        "id": "QTzPfSzh9hcT"
      }
    },
    {
      "cell_type": "code",
      "source": [
        "t.shape"
      ],
      "metadata": {
        "colab": {
          "base_uri": "https://localhost:8080/"
        },
        "id": "Fk1jnZ3y90CG",
        "outputId": "34308092-1ce8-4040-9798-a1aa82f66722"
      },
      "execution_count": null,
      "outputs": [
        {
          "output_type": "execute_result",
          "data": {
            "text/plain": [
              "(2, 3)"
            ]
          },
          "metadata": {},
          "execution_count": 15
        }
      ]
    },
    {
      "cell_type": "markdown",
      "source": [
        "And the **number of dimensions** of a tensor, usually referred to as *rank*, can be obtained via the `ndim` attribute:\n",
        "- **rank-0** tensors are just scalars\n",
        "- **rank-1** tensors of length ``n`` have a shape of ``(n,)``\n",
        "- **rank-2** tensors have a shape of ``(n, m)``\n",
        "- **rank-k** tensors have a shape of $(n_1, \\dots, n_k)$"
      ],
      "metadata": {
        "id": "dW3BjKB-87Zu"
      }
    },
    {
      "cell_type": "markdown",
      "source": [
        "What's the rank of the tensor $t$?"
      ],
      "metadata": {
        "id": "LcPsQ13TtCml"
      }
    },
    {
      "cell_type": "code",
      "source": [
        "# @title 👀 Solution\n",
        "\n",
        "# t.ndim"
      ],
      "metadata": {
        "id": "RTlBAC8D9JDU",
        "cellView": "form"
      },
      "execution_count": null,
      "outputs": []
    },
    {
      "cell_type": "markdown",
      "source": [
        "### Tensor manipulations\n",
        "\n",
        "Tensors can be manipulated in different ways: by transposing, reshaping or concatenatig them. Several functionalities are provided to perform the aforementioned operations."
      ],
      "metadata": {
        "id": "tWLhlvgF__H6"
      }
    },
    {
      "cell_type": "markdown",
      "source": [
        "#### Tranpose\n",
        "\n",
        "NumPy arrays have a handy transpose method to transpose $k$-D tensors, where you can specify an entire mapping to change all the dimensions."
      ],
      "metadata": {
        "id": "EpdmxqqaB6SO"
      }
    },
    {
      "cell_type": "code",
      "source": [
        "a = np.arange(10).reshape(2, 5)\n",
        "a"
      ],
      "metadata": {
        "colab": {
          "base_uri": "https://localhost:8080/"
        },
        "id": "WcKG95-PB5q5",
        "outputId": "06502619-f669-4c71-b614-9c73763033e2"
      },
      "execution_count": null,
      "outputs": [
        {
          "output_type": "execute_result",
          "data": {
            "text/plain": [
              "array([[0, 1, 2, 3, 4],\n",
              "       [5, 6, 7, 8, 9]])"
            ]
          },
          "metadata": {},
          "execution_count": 17
        }
      ]
    },
    {
      "cell_type": "code",
      "source": [
        "a.transpose(1, 0)"
      ],
      "metadata": {
        "colab": {
          "base_uri": "https://localhost:8080/"
        },
        "id": "S7zGF4E-B-tp",
        "outputId": "9ea3347a-d1ca-49ff-908a-60564dfa3d0a"
      },
      "execution_count": null,
      "outputs": [
        {
          "output_type": "execute_result",
          "data": {
            "text/plain": [
              "array([[0, 5],\n",
              "       [1, 6],\n",
              "       [2, 7],\n",
              "       [3, 8],\n",
              "       [4, 9]])"
            ]
          },
          "metadata": {},
          "execution_count": 18
        }
      ]
    },
    {
      "cell_type": "code",
      "source": [
        "a.transpose(0, 1)"
      ],
      "metadata": {
        "colab": {
          "base_uri": "https://localhost:8080/"
        },
        "id": "OVY0wzwnCfZ7",
        "outputId": "6a5fb07a-7cb7-4686-8cbd-3b46569204a4"
      },
      "execution_count": null,
      "outputs": [
        {
          "output_type": "execute_result",
          "data": {
            "text/plain": [
              "array([[0, 1, 2, 3, 4],\n",
              "       [5, 6, 7, 8, 9]])"
            ]
          },
          "metadata": {},
          "execution_count": 19
        }
      ]
    },
    {
      "cell_type": "markdown",
      "source": [
        "`T` is the shorthand to transpose tensors"
      ],
      "metadata": {
        "id": "3a4r9Bd3Ck8x"
      }
    },
    {
      "cell_type": "code",
      "source": [
        "a.T"
      ],
      "metadata": {
        "colab": {
          "base_uri": "https://localhost:8080/"
        },
        "id": "FKxpztJfCgLO",
        "outputId": "31e8182d-9610-4ff3-a451-e29b371fee7e"
      },
      "execution_count": null,
      "outputs": [
        {
          "output_type": "execute_result",
          "data": {
            "text/plain": [
              "array([[0, 5],\n",
              "       [1, 6],\n",
              "       [2, 7],\n",
              "       [3, 8],\n",
              "       [4, 9]])"
            ]
          },
          "metadata": {},
          "execution_count": 20
        }
      ]
    },
    {
      "cell_type": "markdown",
      "source": [
        "#### Reshape\n",
        "\n",
        "In practice, we often run into situations where existing arrays do not have the right shape to perform certain computations. As you might remember from the beginning of this article, the size of NumPy arrays is fixed. Fortunately, this does not mean that we have to create new arrays and copy values from the old array to the new one if we want arrays of different shapes – the size is fixed, but the shape is not. NumPy provides a reshape methods that allow us to obtain a view of an array with a different shape."
      ],
      "metadata": {
        "id": "nFyBvSuVFbnO"
      }
    },
    {
      "cell_type": "code",
      "source": [
        "a = np.array([1, 2, 3, 4, 5, 6])\n",
        "a2d = a.reshape(2, 3)\n",
        "a2d"
      ],
      "metadata": {
        "colab": {
          "base_uri": "https://localhost:8080/"
        },
        "id": "uGnzqj8_Fc9C",
        "outputId": "0c6876fb-db9c-46c5-ddff-e49bbf985f3f"
      },
      "execution_count": null,
      "outputs": [
        {
          "output_type": "execute_result",
          "data": {
            "text/plain": [
              "array([[1, 2, 3],\n",
              "       [4, 5, 6]])"
            ]
          },
          "metadata": {},
          "execution_count": 21
        }
      ]
    },
    {
      "cell_type": "markdown",
      "source": [
        "While we need to specify the desired elements along each axis, we need to make sure that the reshaped array has the same number of elements as the original one. However, we do not need to specify the number elements in each axis; NumPy is smart enough to figure out how many elements to put along an axis if only one axis is unspecified (by using the placeholder -1)"
      ],
      "metadata": {
        "id": "Z3E_1g2zGbiT"
      }
    },
    {
      "cell_type": "code",
      "source": [
        "a.reshape(-1, 3)"
      ],
      "metadata": {
        "colab": {
          "base_uri": "https://localhost:8080/"
        },
        "id": "U8A1fo0HGgc0",
        "outputId": "368568c7-d5e2-4c45-9f9a-7e00578fb689"
      },
      "execution_count": null,
      "outputs": [
        {
          "output_type": "execute_result",
          "data": {
            "text/plain": [
              "array([[1, 2, 3],\n",
              "       [4, 5, 6]])"
            ]
          },
          "metadata": {},
          "execution_count": 22
        }
      ]
    },
    {
      "cell_type": "markdown",
      "source": [
        "Transposing and Reshaping are two **fundamentally different** operations"
      ],
      "metadata": {
        "id": "Ee06dw5yFuyr"
      }
    },
    {
      "cell_type": "code",
      "source": [
        "a = np.arange(12).reshape(3, 4)\n",
        "a"
      ],
      "metadata": {
        "colab": {
          "base_uri": "https://localhost:8080/"
        },
        "id": "ytaf0XfiFwes",
        "outputId": "b42678c2-ca32-4ec7-fd58-171796890cc6"
      },
      "execution_count": null,
      "outputs": [
        {
          "output_type": "execute_result",
          "data": {
            "text/plain": [
              "array([[ 0,  1,  2,  3],\n",
              "       [ 4,  5,  6,  7],\n",
              "       [ 8,  9, 10, 11]])"
            ]
          },
          "metadata": {},
          "execution_count": 23
        }
      ]
    },
    {
      "cell_type": "code",
      "source": [
        "# The classical transpose\n",
        "a.T"
      ],
      "metadata": {
        "colab": {
          "base_uri": "https://localhost:8080/"
        },
        "id": "goNZshQaFyUN",
        "outputId": "fbaccc69-3717-4ec7-ea05-adae67c8e7a8"
      },
      "execution_count": null,
      "outputs": [
        {
          "output_type": "execute_result",
          "data": {
            "text/plain": [
              "array([[ 0,  4,  8],\n",
              "       [ 1,  5,  9],\n",
              "       [ 2,  6, 10],\n",
              "       [ 3,  7, 11]])"
            ]
          },
          "metadata": {},
          "execution_count": 24
        }
      ]
    },
    {
      "cell_type": "code",
      "source": [
        "# Reshape into the transpose shape\n",
        "a.reshape(4, 3)"
      ],
      "metadata": {
        "colab": {
          "base_uri": "https://localhost:8080/"
        },
        "id": "q36N4O29FzqA",
        "outputId": "e5988438-441b-4a3e-af8c-345ecbd050bb"
      },
      "execution_count": null,
      "outputs": [
        {
          "output_type": "execute_result",
          "data": {
            "text/plain": [
              "array([[ 0,  1,  2],\n",
              "       [ 3,  4,  5],\n",
              "       [ 6,  7,  8],\n",
              "       [ 9, 10, 11]])"
            ]
          },
          "metadata": {},
          "execution_count": 25
        }
      ]
    },
    {
      "cell_type": "markdown",
      "source": [
        "Think of the `reshape` operation as unrolling the tensor **row-wise**, to obtain a rank-1 tensor. Then organize the values in this tensor following the specified dimensions.\n",
        "\n",
        "```python\n",
        "array([[ 0,  1,  2,  3],\n",
        "        [ 4,  5,  6,  7],\n",
        "        [ 8,  9, 10, 11]])\n",
        "```\n",
        "$-$ unrolling $ \\to $\n",
        "\n",
        "```python\n",
        "array([ 0,  1,  2,  3,  4,  5,  6,  7,  8,  9, 10, 11])\n",
        "```\n",
        "\n",
        "Then, reading the target shape from right to left, organize the values into the dimensions:\n",
        "\n",
        "- e.g. reshape into `[4, 3]`:\n",
        "\n",
        "```python\n",
        "array([ 0,  1,  2,  3,  4,  5,  6,  7,  8,  9, 10, 11])\n",
        "```\n",
        "\n",
        "$-$ organize in groups of $3$ $ \\to $\n",
        "\n",
        "```python\n",
        "array([[0,  1,  2],  [3,  4,  5],  [6,  7,  8],  [9, 10, 11]])\n",
        "```\n",
        "\n",
        "$-$ organize in groups of $4$ $ \\to $\n",
        "\n",
        "```python\n",
        "array([[ 0,  1,  2],\n",
        "        [ 3,  4,  5],\n",
        "        [ 6,  7,  8],\n",
        "        [ 9, 10, 11]])\n",
        "\n",
        "# same shape of corresponding transpose but it **is** different\n",
        "```\n",
        "\n",
        "- e.g. reshape into `[2, 2, 3]`:\n",
        "\n",
        "```python\n",
        "array([ 0,  1,  2,  3,  4,  5,  6,  7,  8,  9, 10, 11])\n",
        "```\n",
        "\n",
        "$-$ organize in groups of $3$ $ \\to $\n",
        "\n",
        "```python\n",
        "array([[0,  1,  2],  [3,  4,  5],  [6,  7,  8],  [9, 10, 11]])\n",
        "```\n",
        "\n",
        "$-$ organize in groups of $2$ $ \\to $\n",
        "\n",
        "```python\n",
        "array([[[0,  1,  2],  [3,  4,  5]],  [[6,  7,  8],  [9, 10, 11]]])\n",
        "```\n",
        "\n",
        "$-$ organize in groups of $2$ $ \\to $\n",
        "\n",
        "```python\n",
        "array([[[ 0,  1,  2],\n",
        "         [ 3,  4,  5]],\n",
        "\n",
        "        [[ 6,  7,  8],\n",
        "         [ 9, 10, 11]]])\n",
        "```"
      ],
      "metadata": {
        "id": "I04oWTHxHIO0"
      }
    },
    {
      "cell_type": "markdown",
      "source": [
        "#### Concatenation\n",
        "\n",
        "Sometimes, we are interested in merging different arrays. Unfortunately, there is no efficient way to do this without creating a new array, since NumPy arrays have a fixed size. To combine two or more array objects, we can:\n",
        "- `numpy.concatenate` concatenates in the *given* dimension (Pytorch version: `torch.cat`)\n",
        "- `numpy.stack` concatenates along a *new* dimension (Pytorch version: `torch.stack`)"
      ],
      "metadata": {
        "id": "pgsqsXcTHk_C"
      }
    },
    {
      "cell_type": "code",
      "source": [
        "arr = np.array([4, 7, 12])\n",
        "arr1 = np.array([5, 9, 15])"
      ],
      "metadata": {
        "id": "T2JVW25tH16B"
      },
      "execution_count": null,
      "outputs": []
    },
    {
      "cell_type": "code",
      "source": [
        "np.stack((arr, arr1))"
      ],
      "metadata": {
        "colab": {
          "base_uri": "https://localhost:8080/"
        },
        "id": "jN0RS_mjLeCG",
        "outputId": "7386fcf3-1d57-491b-9588-c8db4b0c1c39"
      },
      "execution_count": null,
      "outputs": [
        {
          "output_type": "execute_result",
          "data": {
            "text/plain": [
              "array([[ 4,  7, 12],\n",
              "       [ 5,  9, 15]])"
            ]
          },
          "metadata": {},
          "execution_count": 27
        }
      ]
    },
    {
      "cell_type": "code",
      "source": [
        "np.stack((arr, arr1), axis=1)"
      ],
      "metadata": {
        "colab": {
          "base_uri": "https://localhost:8080/"
        },
        "id": "ZCDWT7XnLC8-",
        "outputId": "90b3fcbf-f24c-4a31-e2bf-22dc8fece786"
      },
      "execution_count": null,
      "outputs": [
        {
          "output_type": "execute_result",
          "data": {
            "text/plain": [
              "array([[ 4,  5],\n",
              "       [ 7,  9],\n",
              "       [12, 15]])"
            ]
          },
          "metadata": {},
          "execution_count": 28
        }
      ]
    },
    {
      "cell_type": "code",
      "source": [
        "np.concatenate((arr, arr1))"
      ],
      "metadata": {
        "colab": {
          "base_uri": "https://localhost:8080/"
        },
        "id": "T0gCjufSLBRn",
        "outputId": "d3cc2e3e-93f4-43ef-f425-702f8449bf75"
      },
      "execution_count": null,
      "outputs": [
        {
          "output_type": "execute_result",
          "data": {
            "text/plain": [
              "array([ 4,  7, 12,  5,  9, 15])"
            ]
          },
          "metadata": {},
          "execution_count": 29
        }
      ]
    },
    {
      "cell_type": "code",
      "source": [
        "arr = np.array([[4, 6], [9, 13]])\n",
        "arr1 = np.array([[8, 3], [12, 19]])\n",
        "\n",
        "np.concatenate((arr, arr1), axis=1)"
      ],
      "metadata": {
        "colab": {
          "base_uri": "https://localhost:8080/"
        },
        "id": "zFb0TOOWLBmS",
        "outputId": "7eac75af-c701-46cd-dafb-c6312910fab9"
      },
      "execution_count": null,
      "outputs": [
        {
          "output_type": "execute_result",
          "data": {
            "text/plain": [
              "array([[ 4,  6,  8,  3],\n",
              "       [ 9, 13, 12, 19]])"
            ]
          },
          "metadata": {},
          "execution_count": 30
        }
      ]
    },
    {
      "cell_type": "markdown",
      "source": [
        "### **Excercises**\n",
        "\n",
        "1. Create a 3x3 tensor with equally spaced values between 0 and 10\n",
        "2. Using the shape of the previous tensor, create an identity matrix with the same shape\n",
        "3. Given a tensor with shape `(5, 10, 6, 7)`, rearrange it to obtain a shape `(5, 6, 7, 10)` (generate the tensor to manipulate using the following command `a = np.random.rand(5,10,6,7)`)\n",
        "4. Create a tensor with shape `(5, 8)` where the first 4 columns are all zeros and the last 4 columns are all ones\n",
        "5. Consider the following tensor `a = np.arange(10)`, manipulate it in such a way to obtain `array([0, 5, 1, 6, 2, 7, 3, 8, 4, 9])`"
      ],
      "metadata": {
        "id": "cxn60ijc4wbI"
      }
    },
    {
      "cell_type": "markdown",
      "source": [
        "### Tensor indexing and slicing\n",
        "\n",
        "Retrieving NumPy array elements can be done via different indexing methods.\n",
        "\n",
        "Also **be careful** that slice and indexing operation returns a view of the original tensor. As a consequence by assigning to sliced tensors will modify the original one."
      ],
      "metadata": {
        "id": "fh1T3dr3L99z"
      }
    },
    {
      "cell_type": "markdown",
      "source": [
        "#### Standard indexing and sliding\n",
        "\n",
        "Simple NumPy indexing works similar to Python lists:"
      ],
      "metadata": {
        "id": "rQZw5WE1OmmF"
      }
    },
    {
      "cell_type": "code",
      "source": [
        "a = np.arange(10)\n",
        "a"
      ],
      "metadata": {
        "colab": {
          "base_uri": "https://localhost:8080/"
        },
        "id": "PnlajaXbL_uu",
        "outputId": "79f75b8e-6388-497b-9c80-25b7dca5988e"
      },
      "execution_count": null,
      "outputs": [
        {
          "output_type": "execute_result",
          "data": {
            "text/plain": [
              "array([0, 1, 2, 3, 4, 5, 6, 7, 8, 9])"
            ]
          },
          "metadata": {},
          "execution_count": 31
        }
      ]
    },
    {
      "cell_type": "code",
      "source": [
        "print(a[0])  # first element\n",
        "print(a[1])  # second element"
      ],
      "metadata": {
        "colab": {
          "base_uri": "https://localhost:8080/"
        },
        "id": "SAIF7Q6LMj9K",
        "outputId": "370ae233-48b6-4cd1-e36d-a212069f25f5"
      },
      "execution_count": null,
      "outputs": [
        {
          "output_type": "stream",
          "name": "stdout",
          "text": [
            "0\n",
            "1\n"
          ]
        }
      ]
    },
    {
      "cell_type": "code",
      "source": [
        "print(a[-1])  # last element\n",
        "print(a[-2])  # second last element"
      ],
      "metadata": {
        "colab": {
          "base_uri": "https://localhost:8080/"
        },
        "id": "fhUWbCxPMxfh",
        "outputId": "8491bda1-9419-4eab-8103-637b82f7be85"
      },
      "execution_count": null,
      "outputs": [
        {
          "output_type": "stream",
          "name": "stdout",
          "text": [
            "9\n",
            "8\n"
          ]
        }
      ]
    },
    {
      "cell_type": "markdown",
      "source": [
        "When tensors are multidimensional, you can specify one index for each dimension:"
      ],
      "metadata": {
        "id": "Ftj_JzRrM18V"
      }
    },
    {
      "cell_type": "code",
      "source": [
        "a = np.arange(10).reshape(2, 5)\n",
        "a"
      ],
      "metadata": {
        "colab": {
          "base_uri": "https://localhost:8080/"
        },
        "id": "SeWPkbaJM5pf",
        "outputId": "e20bf920-2d74-4465-95f3-a8e9497da638"
      },
      "execution_count": null,
      "outputs": [
        {
          "output_type": "execute_result",
          "data": {
            "text/plain": [
              "array([[0, 1, 2, 3, 4],\n",
              "       [5, 6, 7, 8, 9]])"
            ]
          },
          "metadata": {},
          "execution_count": 34
        }
      ]
    },
    {
      "cell_type": "code",
      "source": [
        "a[1, 3]"
      ],
      "metadata": {
        "colab": {
          "base_uri": "https://localhost:8080/"
        },
        "id": "sOfUYb2zM9Ub",
        "outputId": "1ba6d364-df94-45a8-ff4a-a8a84eb44b33"
      },
      "execution_count": null,
      "outputs": [
        {
          "output_type": "execute_result",
          "data": {
            "text/plain": [
              "8"
            ]
          },
          "metadata": {},
          "execution_count": 35
        }
      ]
    },
    {
      "cell_type": "code",
      "source": [
        "print(a[0]) # first row\n",
        "print(a[1]) # second row"
      ],
      "metadata": {
        "colab": {
          "base_uri": "https://localhost:8080/"
        },
        "id": "uJnCAgZlM9N0",
        "outputId": "58db5510-c620-46ad-edad-f8fed0d115fa"
      },
      "execution_count": null,
      "outputs": [
        {
          "output_type": "stream",
          "name": "stdout",
          "text": [
            "[0 1 2 3 4]\n",
            "[5 6 7 8 9]\n"
          ]
        }
      ]
    },
    {
      "cell_type": "code",
      "source": [
        "a[0, -1]"
      ],
      "metadata": {
        "colab": {
          "base_uri": "https://localhost:8080/"
        },
        "id": "MUO_kGGpNGup",
        "outputId": "51f33aa1-4442-4e80-86d7-adce79d40a66"
      },
      "execution_count": null,
      "outputs": [
        {
          "output_type": "execute_result",
          "data": {
            "text/plain": [
              "4"
            ]
          },
          "metadata": {},
          "execution_count": 37
        }
      ]
    },
    {
      "cell_type": "markdown",
      "source": [
        "Simple slicing works similar to Python lists as well:"
      ],
      "metadata": {
        "id": "tUYaFLB7NS4z"
      }
    },
    {
      "cell_type": "code",
      "source": [
        "a = np.arange(10) + 10\n",
        "a"
      ],
      "metadata": {
        "colab": {
          "base_uri": "https://localhost:8080/"
        },
        "id": "wKEYXKqvNY2k",
        "outputId": "be28a6ba-5123-4122-8f0a-7202d7f2ed37"
      },
      "execution_count": null,
      "outputs": [
        {
          "output_type": "execute_result",
          "data": {
            "text/plain": [
              "array([10, 11, 12, 13, 14, 15, 16, 17, 18, 19])"
            ]
          },
          "metadata": {},
          "execution_count": 38
        }
      ]
    },
    {
      "cell_type": "code",
      "source": [
        "# Take the elements in positions 5..6\n",
        "a[5:7]"
      ],
      "metadata": {
        "colab": {
          "base_uri": "https://localhost:8080/"
        },
        "id": "j9QKup0VNdwM",
        "outputId": "5830039f-9029-42d3-e82e-f234573d96b8"
      },
      "execution_count": null,
      "outputs": [
        {
          "output_type": "execute_result",
          "data": {
            "text/plain": [
              "array([15, 16])"
            ]
          },
          "metadata": {},
          "execution_count": 39
        }
      ]
    },
    {
      "cell_type": "code",
      "source": [
        "# Take the last 5 elements\n",
        "a[-5:]"
      ],
      "metadata": {
        "colab": {
          "base_uri": "https://localhost:8080/"
        },
        "id": "KOHgKEdYNfC4",
        "outputId": "1f515368-3baa-4977-ef5a-dfe5aa288705"
      },
      "execution_count": null,
      "outputs": [
        {
          "output_type": "execute_result",
          "data": {
            "text/plain": [
              "array([15, 16, 17, 18, 19])"
            ]
          },
          "metadata": {},
          "execution_count": 40
        }
      ]
    },
    {
      "cell_type": "code",
      "source": [
        "# a[start:stop:step] from start to at most stop-1, by step\n",
        "# Select every element having an even index\n",
        "a[::2]"
      ],
      "metadata": {
        "colab": {
          "base_uri": "https://localhost:8080/"
        },
        "id": "ubrIKwY2NgRc",
        "outputId": "07b67a88-3577-4cda-e987-290ab96533d4"
      },
      "execution_count": null,
      "outputs": [
        {
          "output_type": "execute_result",
          "data": {
            "text/plain": [
              "array([10, 12, 14, 16, 18])"
            ]
          },
          "metadata": {},
          "execution_count": 41
        }
      ]
    },
    {
      "cell_type": "markdown",
      "source": [
        "Multidimensional slicing is possible as well:"
      ],
      "metadata": {
        "id": "kJd8yvVROxY8"
      }
    },
    {
      "cell_type": "code",
      "source": [
        "a = np.arange(10).reshape(2, 5)\n",
        "a"
      ],
      "metadata": {
        "colab": {
          "base_uri": "https://localhost:8080/"
        },
        "id": "GP23FAyeO5ii",
        "outputId": "d9b1b640-326f-4ae3-d097-17d710a4d178"
      },
      "execution_count": null,
      "outputs": [
        {
          "output_type": "execute_result",
          "data": {
            "text/plain": [
              "array([[0, 1, 2, 3, 4],\n",
              "       [5, 6, 7, 8, 9]])"
            ]
          },
          "metadata": {},
          "execution_count": 42
        }
      ]
    },
    {
      "cell_type": "code",
      "source": [
        "# Take the second column\n",
        "a[:, 1]"
      ],
      "metadata": {
        "colab": {
          "base_uri": "https://localhost:8080/"
        },
        "id": "yZh_Udh_O8iU",
        "outputId": "e83c26a5-6902-4256-bd06-15fcfbb2e4f7"
      },
      "execution_count": null,
      "outputs": [
        {
          "output_type": "execute_result",
          "data": {
            "text/plain": [
              "array([1, 6])"
            ]
          },
          "metadata": {},
          "execution_count": 43
        }
      ]
    },
    {
      "cell_type": "code",
      "source": [
        "# Take the last column\n",
        "a[:, -1]"
      ],
      "metadata": {
        "colab": {
          "base_uri": "https://localhost:8080/"
        },
        "id": "oToRAji2O-AB",
        "outputId": "548c12ba-531d-4194-bddd-32f782f3cb35"
      },
      "execution_count": null,
      "outputs": [
        {
          "output_type": "execute_result",
          "data": {
            "text/plain": [
              "array([4, 9])"
            ]
          },
          "metadata": {},
          "execution_count": 44
        }
      ]
    },
    {
      "cell_type": "code",
      "source": [
        "# Take a slice from the last row\n",
        "a[-1, -3:]"
      ],
      "metadata": {
        "colab": {
          "base_uri": "https://localhost:8080/"
        },
        "id": "J5kxAssfPAQW",
        "outputId": "f74fe6ad-3d3b-4d36-d0c7-04fd6faf18ed"
      },
      "execution_count": null,
      "outputs": [
        {
          "output_type": "execute_result",
          "data": {
            "text/plain": [
              "array([7, 8, 9])"
            ]
          },
          "metadata": {},
          "execution_count": 45
        }
      ]
    },
    {
      "cell_type": "markdown",
      "source": [
        "#### Fancy indexing and slicing\n",
        "\n",
        "Via fancy indexing, we can use tuple or list objects of non-contiguous integer indices to return desired array elements. Since fancy indexing can be performed with non-contiguous sequences, it cannot return a view – a contiguous slice from memory. Thus, fancy indexing always returns a copy of an array – it is important to keep that in mind."
      ],
      "metadata": {
        "id": "4nBjLgLuQaCW"
      }
    },
    {
      "cell_type": "code",
      "source": [
        "a = np.arange(1, 7).reshape(3, 2)\n",
        "a[[0, 1, 2], [0, 1, 0]]"
      ],
      "metadata": {
        "colab": {
          "base_uri": "https://localhost:8080/"
        },
        "id": "PP5ywLThQl6d",
        "outputId": "0aab62f2-d22e-42fd-c3f3-4cb873fa4015"
      },
      "execution_count": null,
      "outputs": [
        {
          "output_type": "execute_result",
          "data": {
            "text/plain": [
              "array([1, 4, 5])"
            ]
          },
          "metadata": {},
          "execution_count": 46
        }
      ]
    },
    {
      "cell_type": "code",
      "source": [
        "# Equivalent to\n",
        "v1, v2, v3 = a[0, 0], a[1, 1], a[2, 0]\n",
        "np.array([v1, v2, v3])"
      ],
      "metadata": {
        "colab": {
          "base_uri": "https://localhost:8080/"
        },
        "id": "msn3_v5KRJI8",
        "outputId": "e62f0f55-02d4-47f3-8bdc-415c8725fa95"
      },
      "execution_count": null,
      "outputs": [
        {
          "output_type": "execute_result",
          "data": {
            "text/plain": [
              "array([1, 4, 5])"
            ]
          },
          "metadata": {},
          "execution_count": 47
        }
      ]
    },
    {
      "cell_type": "markdown",
      "source": [
        "Differently, fancy slicing returns a sub-tensor"
      ],
      "metadata": {
        "id": "OcKMcobSRcYY"
      }
    },
    {
      "cell_type": "code",
      "source": [
        "a = np.arange(16).reshape(4, 4)\n",
        "a"
      ],
      "metadata": {
        "colab": {
          "base_uri": "https://localhost:8080/"
        },
        "id": "xObmkQtUR1Kt",
        "outputId": "1c68c89e-88e3-4679-d2bd-19bb90a323e6"
      },
      "execution_count": null,
      "outputs": [
        {
          "output_type": "execute_result",
          "data": {
            "text/plain": [
              "array([[ 0,  1,  2,  3],\n",
              "       [ 4,  5,  6,  7],\n",
              "       [ 8,  9, 10, 11],\n",
              "       [12, 13, 14, 15]])"
            ]
          },
          "metadata": {},
          "execution_count": 49
        }
      ]
    },
    {
      "cell_type": "code",
      "source": [
        "a[0:5:2, 0:5:2]"
      ],
      "metadata": {
        "colab": {
          "base_uri": "https://localhost:8080/"
        },
        "id": "Lr_MkR7ER2H0",
        "outputId": "2071c051-ceae-4099-8446-9be7b8dba7fe"
      },
      "execution_count": null,
      "outputs": [
        {
          "output_type": "execute_result",
          "data": {
            "text/plain": [
              "array([[ 0,  2],\n",
              "       [ 8, 10]])"
            ]
          },
          "metadata": {},
          "execution_count": 50
        }
      ]
    },
    {
      "cell_type": "markdown",
      "source": [
        "#### Boolean mask for indexing\n",
        "\n",
        "We can also use Boolean masks for indexing – that is, arrays of `True` and `False` values, and it is used to select the elements of a tensor that satisfy some condition."
      ],
      "metadata": {
        "id": "lItO3MfzR3x1"
      }
    },
    {
      "cell_type": "code",
      "source": [
        "a = np.arange(6).reshape(3, 2)\n",
        "a"
      ],
      "metadata": {
        "colab": {
          "base_uri": "https://localhost:8080/"
        },
        "id": "-wlBRjtPR3Sh",
        "outputId": "808c482b-96b7-49c9-e2fe-b16aa18ea35d"
      },
      "execution_count": null,
      "outputs": [
        {
          "output_type": "execute_result",
          "data": {
            "text/plain": [
              "array([[0, 1],\n",
              "       [2, 3],\n",
              "       [4, 5]])"
            ]
          },
          "metadata": {},
          "execution_count": 51
        }
      ]
    },
    {
      "cell_type": "code",
      "source": [
        "bool_idx = (a > 2)\n",
        "bool_idx"
      ],
      "metadata": {
        "colab": {
          "base_uri": "https://localhost:8080/"
        },
        "id": "l2j7YnyzSM8J",
        "outputId": "ad5c3878-ed66-4dd8-c1de-8487dea1e774"
      },
      "execution_count": null,
      "outputs": [
        {
          "output_type": "execute_result",
          "data": {
            "text/plain": [
              "array([[False, False],\n",
              "       [False,  True],\n",
              "       [ True,  True]])"
            ]
          },
          "metadata": {},
          "execution_count": 52
        }
      ]
    },
    {
      "cell_type": "code",
      "source": [
        "a[bool_idx]"
      ],
      "metadata": {
        "colab": {
          "base_uri": "https://localhost:8080/"
        },
        "id": "dUbBievdSQDT",
        "outputId": "f0acda0b-959d-4a6c-939a-01b41a04488d"
      },
      "execution_count": null,
      "outputs": [
        {
          "output_type": "execute_result",
          "data": {
            "text/plain": [
              "array([3, 4, 5])"
            ]
          },
          "metadata": {},
          "execution_count": 53
        }
      ]
    },
    {
      "cell_type": "markdown",
      "source": [
        "Using comparison operators (such as `<`, `>`, `<=`, and `>=`), we can create a Boolean mask of that array which consists of `True` and `False` elements depending on whether a condition is met in the target array"
      ],
      "metadata": {
        "id": "5vg_7SSTShWT"
      }
    },
    {
      "cell_type": "code",
      "source": [
        "a = np.array([1, 2, 3, 4, 5])\n",
        "mask = a > 2\n",
        "a[mask]"
      ],
      "metadata": {
        "colab": {
          "base_uri": "https://localhost:8080/"
        },
        "id": "Wyzfzy2ESq4p",
        "outputId": "315e4a1c-c8fc-4693-93e1-2ff78f1f31b1"
      },
      "execution_count": null,
      "outputs": [
        {
          "output_type": "execute_result",
          "data": {
            "text/plain": [
              "array([3, 4, 5])"
            ]
          },
          "metadata": {},
          "execution_count": 54
        }
      ]
    },
    {
      "cell_type": "markdown",
      "source": [
        "Logical operators allow us to chain an arbitrary number of conditions to create even more “complex” boolean masks:\n",
        "- and: `&`\n",
        "- or: `|`\n",
        "- xor: `^`\n",
        "- not: `~`"
      ],
      "metadata": {
        "id": "uvYe2iEtS-Lz"
      }
    },
    {
      "cell_type": "code",
      "source": [
        "a = np.array([1, 2, 3, 4, 5])\n",
        "a[(a > 3) | (a < 2)]"
      ],
      "metadata": {
        "colab": {
          "base_uri": "https://localhost:8080/"
        },
        "id": "WHuTOHC9S107",
        "outputId": "21f703f0-1727-4c75-ad69-7c36ea32e08b"
      },
      "execution_count": null,
      "outputs": [
        {
          "output_type": "execute_result",
          "data": {
            "text/plain": [
              "array([1, 4, 5])"
            ]
          },
          "metadata": {},
          "execution_count": 55
        }
      ]
    },
    {
      "cell_type": "markdown",
      "source": [
        "A useful function to assign values to specific elements in an array is the `np.where` function.\n"
      ],
      "metadata": {
        "id": "imUMccgpTZ07"
      }
    },
    {
      "cell_type": "code",
      "source": [
        "a = np.array([1, 2, 3, 4, 5])\n",
        "\n",
        "np.where(a > 2, 1, 0) # assign 1 to all values in the array that are greater than 2 – and 0, otherwise"
      ],
      "metadata": {
        "colab": {
          "base_uri": "https://localhost:8080/"
        },
        "id": "ecZ6fh_GTUIj",
        "outputId": "d201f230-76e5-4ba3-f4c0-4090a11f1909"
      },
      "execution_count": null,
      "outputs": [
        {
          "output_type": "execute_result",
          "data": {
            "text/plain": [
              "array([0, 0, 1, 1, 1])"
            ]
          },
          "metadata": {},
          "execution_count": 56
        }
      ]
    },
    {
      "cell_type": "markdown",
      "source": [
        "### Excercises\n",
        "\n",
        "1. Given a $m \\times n$ dimensional tensor, replace the values of the last 3 columns with a $0$. (start from the array generated by `np.arange(4*6).reshape(4,6)`)\n",
        "2. Create a block diagonal matrix starting from `np.zeros((20,20))` with $5 \\times 5$ blocks\n",
        "3. Given a $n \\times n$ tensor representing a weighted graph, create an integer-valued tensor where a value of 1 is replaced if the weight of the edge is greater than a threshold (consider the following tensor `np.random.rand(7,7)` and the threshold equals to $0.5$)\n",
        "4. Select the weights of all the edges in the matrix of Ex. 3 that are not self-loops (that are the edges where the index of the row and of the column match). *Hint:* you may need some function from the [documentation](https://numpy.org/doc/stable/reference/routines.sort.html)\n",
        "5. Create a tensor with shape `(5, 5)` with ones along the diagonal and anti-diagonal"
      ],
      "metadata": {
        "id": "0ohN3st1CrGY"
      }
    },
    {
      "cell_type": "markdown",
      "source": [
        "### Basic math operations\n",
        "\n",
        "While for-loops are usually used to perform arithmetic operations on Python sequence-like objects, NumPy's efficient vectorized versions make the library popular in the scientific community.\n",
        "\n",
        "Many [*ufuncs*](https://numpy.org/doc/stable/reference/ufuncs.html#available-ufuncs) operating element-by-element are implemented in compiled C code and very fast and efficient compared to vanilla Python."
      ],
      "metadata": {
        "id": "gwG9NHrFxIKj"
      }
    },
    {
      "cell_type": "code",
      "source": [
        "lst = [[1, 2, 3],\n",
        "       [4, 5, 6]]\n",
        "\n",
        "for row_idx, row_val in enumerate(lst):\n",
        "    for col_idx, col_val in enumerate(row_val):\n",
        "        lst[row_idx][col_idx] += 1\n",
        "lst"
      ],
      "metadata": {
        "colab": {
          "base_uri": "https://localhost:8080/"
        },
        "id": "Cy0UJGUWJU7k",
        "outputId": "bb2a33ce-ae05-48bc-8a53-06d3c364722e"
      },
      "execution_count": null,
      "outputs": [
        {
          "output_type": "execute_result",
          "data": {
            "text/plain": [
              "[[2, 3, 4], [5, 6, 7]]"
            ]
          },
          "metadata": {},
          "execution_count": 57
        }
      ]
    },
    {
      "cell_type": "code",
      "source": [
        "a = np.array([[1, 2, 3], [4, 5, 6]])\n",
        "a = np.add(a, 1) # binary ufunc\n",
        "a"
      ],
      "metadata": {
        "colab": {
          "base_uri": "https://localhost:8080/"
        },
        "id": "by4kjD_iJYUX",
        "outputId": "5512a106-c8d6-45d5-aa65-bd124d1ff847"
      },
      "execution_count": null,
      "outputs": [
        {
          "output_type": "execute_result",
          "data": {
            "text/plain": [
              "array([[2, 3, 4],\n",
              "       [5, 6, 7]])"
            ]
          },
          "metadata": {},
          "execution_count": 58
        }
      ]
    },
    {
      "cell_type": "markdown",
      "source": [
        "NumPy uses operator overloading so that we can use mathematical operators (`+`, `-`, `/`, `*`, and `**`) directly."
      ],
      "metadata": {
        "id": "0aflV98xJffb"
      }
    },
    {
      "cell_type": "code",
      "source": [
        "a + 1"
      ],
      "metadata": {
        "colab": {
          "base_uri": "https://localhost:8080/"
        },
        "id": "_LMSDJRqJljG",
        "outputId": "663e1abb-ee90-43ad-9ef3-b35a82429481"
      },
      "execution_count": null,
      "outputs": [
        {
          "output_type": "execute_result",
          "data": {
            "text/plain": [
              "array([[3, 4, 5],\n",
              "       [6, 7, 8]])"
            ]
          },
          "metadata": {},
          "execution_count": 59
        }
      ]
    },
    {
      "cell_type": "code",
      "source": [
        "np.power(a, 2)"
      ],
      "metadata": {
        "colab": {
          "base_uri": "https://localhost:8080/"
        },
        "id": "Ah3itgfdJtyW",
        "outputId": "1a2e42a9-9a6d-4e17-b31f-8384058ec3ab"
      },
      "execution_count": null,
      "outputs": [
        {
          "output_type": "execute_result",
          "data": {
            "text/plain": [
              "array([[ 4,  9, 16],\n",
              "       [25, 36, 49]])"
            ]
          },
          "metadata": {},
          "execution_count": 60
        }
      ]
    },
    {
      "cell_type": "code",
      "source": [
        "a**2"
      ],
      "metadata": {
        "colab": {
          "base_uri": "https://localhost:8080/"
        },
        "id": "4p0N3ENjJvN-",
        "outputId": "a1b15bee-20bf-4588-8723-a71e0375e7c2"
      },
      "execution_count": null,
      "outputs": [
        {
          "output_type": "execute_result",
          "data": {
            "text/plain": [
              "array([[ 4,  9, 16],\n",
              "       [25, 36, 49]])"
            ]
          },
          "metadata": {},
          "execution_count": 61
        }
      ]
    },
    {
      "cell_type": "markdown",
      "source": [
        "When dealing with multidimensional tensors, we may want to compute the sum or product of array element along a given axis.\n",
        "\n",
        "Think of the `axis` parameter as an index over the tensor's `shape`. The operation will be performed by iterating over that dimension."
      ],
      "metadata": {
        "id": "M7bC7VgWKxbY"
      }
    },
    {
      "cell_type": "code",
      "source": [
        "a = np.array([[1, 2, 3],\n",
        "              [4, 5, 6]])"
      ],
      "metadata": {
        "id": "bb7hjy5IK2uV"
      },
      "execution_count": null,
      "outputs": []
    },
    {
      "cell_type": "code",
      "source": [
        "a.sum(axis=0) # column sums"
      ],
      "metadata": {
        "colab": {
          "base_uri": "https://localhost:8080/"
        },
        "id": "8EoQ5YmNK9d5",
        "outputId": "888c6362-eff9-4fae-a13b-81462f5978e2"
      },
      "execution_count": null,
      "outputs": [
        {
          "output_type": "execute_result",
          "data": {
            "text/plain": [
              "array([5, 7, 9])"
            ]
          },
          "metadata": {},
          "execution_count": 63
        }
      ]
    },
    {
      "cell_type": "code",
      "source": [
        "a.sum(axis=1) # row sums"
      ],
      "metadata": {
        "colab": {
          "base_uri": "https://localhost:8080/"
        },
        "id": "5HWlG3MGK9v_",
        "outputId": "5fe6473e-cc21-4fee-a508-ba7a5b303c51"
      },
      "execution_count": null,
      "outputs": [
        {
          "output_type": "execute_result",
          "data": {
            "text/plain": [
              "array([ 6, 15])"
            ]
          },
          "metadata": {},
          "execution_count": 64
        }
      ]
    },
    {
      "cell_type": "markdown",
      "source": [
        "### Excercises\n",
        "\n",
        "1. The l2 norm of a vector is defined as following:\n",
        "$$\n",
        "{\\displaystyle \\|{\\boldsymbol {x}}\\|_{2}:={\\sqrt {x_{1}^{2}+\\cdots +x_{n}^{2}}}.}\n",
        "$$\n",
        "Compute the l2 norm of the following tensor `np.arange(15)` by just using ufuncs\n",
        "2. Given the following tensor `np.random.randint(2, size=(10,25))`, return:\n",
        "  - a new tensor where in position $i$ there is the number of $1$ in the $i$th column\n",
        "  - a new tensor where in position $i$ there is the number of $1$ in the $i$th row\n",
        "3. Create a $6 \\times 6$ tensor filled with $2$s along the diagonal and $1$s in non-diagonal entries\n",
        "4. Compute the column-wise mean of the following tensor `np.array([[4, 5, 6,], [7, 8, 9]])`"
      ],
      "metadata": {
        "id": "fJxZDngvXBx_"
      }
    },
    {
      "cell_type": "markdown",
      "source": [
        "### Broadcasting\n",
        "\n",
        "Broadcasting allows us to perform vectorized operations between two arrays even if their dimensions do not match by creating implicit multidimensional grids.\n",
        "![broadcasting.png](https://sebastianraschka.com/images/blog/2020/numpy-intro/broadcasting-2.png)"
      ],
      "metadata": {
        "id": "3iOs_HhgKGy4"
      }
    },
    {
      "cell_type": "code",
      "source": [
        "a = np.array([[4, 5, 6],\n",
        "              [7, 8, 9]])\n",
        "\n",
        "a2 = np.array([1,2,3])\n",
        "\n",
        "a + a2"
      ],
      "metadata": {
        "colab": {
          "base_uri": "https://localhost:8080/"
        },
        "id": "2AmyamORKGLj",
        "outputId": "f5448186-8503-4d99-e6fd-2e477b6514fd"
      },
      "execution_count": null,
      "outputs": [
        {
          "output_type": "execute_result",
          "data": {
            "text/plain": [
              "array([[ 5,  7,  9],\n",
              "       [ 8, 10, 12]])"
            ]
          },
          "metadata": {},
          "execution_count": 65
        }
      ]
    },
    {
      "cell_type": "markdown",
      "source": [
        "Two tensors are \"broadcastable\" if:\n",
        "- Each tensor has at least one dimension\n",
        "- Starting at the trailing dimension, the dimension must either **be equal**, **one of them is 1**, or **one of them does not exist**.\n",
        "\n",
        "---\n",
        "\n",
        "Broadcasting two tensors together follows these rules:\n",
        "\n",
        "1. If the input tensors have different ranks, **singleton dimensions are prepended to the shape** of the smaller one until it has the same rank as the other\n",
        "\n",
        "2. The size in each dimension of the **output shape** is the maximum size in that dimension between the two tensors\n",
        "\n",
        "3. An input can be used in the computation if its size in a particular **dimension either matches** the output size in that dimension, **or is a singleton dimension**\n",
        "\n",
        "4. If an input has a dimension size of 1 in its shape, the **first data entry in that dimension will be used for all calculations** along that dimension.\n",
        "\n",
        "\n",
        "Check out the [following resources](https://docs.scipy.org/doc/numpy/user/basics.broadcasting.html) for more information about broadcasting."
      ],
      "metadata": {
        "id": "nOJG1LQXM7zL"
      }
    },
    {
      "cell_type": "code",
      "source": [
        "a1 = np.arange(12).reshape(4, 3)\n",
        "a2 = np.array([0, 10, 20])\n",
        "a1"
      ],
      "metadata": {
        "colab": {
          "base_uri": "https://localhost:8080/"
        },
        "id": "8mTbyyQ3MqEf",
        "outputId": "bcf4c188-9439-4b8f-c344-06ae7f6fc53d"
      },
      "execution_count": null,
      "outputs": [
        {
          "output_type": "execute_result",
          "data": {
            "text/plain": [
              "array([[ 0,  1,  2],\n",
              "       [ 3,  4,  5],\n",
              "       [ 6,  7,  8],\n",
              "       [ 9, 10, 11]])"
            ]
          },
          "metadata": {},
          "execution_count": 66
        }
      ]
    },
    {
      "cell_type": "code",
      "source": [
        "a1 * a2"
      ],
      "metadata": {
        "colab": {
          "base_uri": "https://localhost:8080/"
        },
        "id": "pje3-FfgSTRB",
        "outputId": "085beef5-e525-46a9-d783-22e158acb514"
      },
      "execution_count": null,
      "outputs": [
        {
          "output_type": "execute_result",
          "data": {
            "text/plain": [
              "array([[  0,  10,  40],\n",
              "       [  0,  40, 100],\n",
              "       [  0,  70, 160],\n",
              "       [  0, 100, 220]])"
            ]
          },
          "metadata": {},
          "execution_count": 67
        }
      ]
    },
    {
      "cell_type": "code",
      "source": [
        "a3 = np.arange(1, 5).reshape(4,1)\n",
        "a3"
      ],
      "metadata": {
        "colab": {
          "base_uri": "https://localhost:8080/"
        },
        "id": "ptMHdzIfSpWA",
        "outputId": "46c8302a-c08e-42e9-a0b3-76f3e13493c6"
      },
      "execution_count": null,
      "outputs": [
        {
          "output_type": "execute_result",
          "data": {
            "text/plain": [
              "array([[1],\n",
              "       [2],\n",
              "       [3],\n",
              "       [4]])"
            ]
          },
          "metadata": {},
          "execution_count": 68
        }
      ]
    },
    {
      "cell_type": "code",
      "source": [
        "a1 / a3"
      ],
      "metadata": {
        "colab": {
          "base_uri": "https://localhost:8080/"
        },
        "id": "GghIaIRdSzfM",
        "outputId": "1e087b3d-4ce5-49f9-cf55-e56bb78f3f5e"
      },
      "execution_count": null,
      "outputs": [
        {
          "output_type": "execute_result",
          "data": {
            "text/plain": [
              "array([[0.        , 1.        , 2.        ],\n",
              "       [1.5       , 2.        , 2.5       ],\n",
              "       [2.        , 2.33333333, 2.66666667],\n",
              "       [2.25      , 2.5       , 2.75      ]])"
            ]
          },
          "metadata": {},
          "execution_count": 69
        }
      ]
    },
    {
      "cell_type": "markdown",
      "source": [
        "### Excerises\n",
        "\n",
        "1. Given 10 different 3D points stored in the following tensor `np.random.random((10, 3))` of shape `(10, 3)`, center the points in the mean.\n",
        "2. Given a real-valued tensor with shape $m \\times n$ representing $n$ features for each of the $m$ points `np.arange(6*20).reshape(6, 20)`. Normalize the features of each point by dividing for the sum."
      ],
      "metadata": {
        "id": "aqG5vnDOqmjA"
      }
    },
    {
      "cell_type": "markdown",
      "source": [
        "### Linear algebra\n",
        "\n",
        "One-dimensional tensors can intuitively be considered as row vectors"
      ],
      "metadata": {
        "id": "z02j6N_rTTkK"
      }
    },
    {
      "cell_type": "code",
      "source": [
        "row_vector = np.array([1, 2, 3])\n",
        "row_vector"
      ],
      "metadata": {
        "colab": {
          "base_uri": "https://localhost:8080/"
        },
        "id": "c6UAlBuMTWIu",
        "outputId": "459b3c36-76dc-4fd6-b8ab-2c4a12de254c"
      },
      "execution_count": null,
      "outputs": [
        {
          "output_type": "execute_result",
          "data": {
            "text/plain": [
              "array([1, 2, 3])"
            ]
          },
          "metadata": {},
          "execution_count": 70
        }
      ]
    },
    {
      "cell_type": "markdown",
      "source": [
        "We can compute the dot-product of two tensors by using the `dot` function.\n",
        "\n",
        "Given $x \\in R^k$ and $y \\in R^k$, the dot product $z \\in R$ is defined as:\n",
        "\n",
        "$$z = \\sum_{i=0}^{k} x_i y_i$$"
      ],
      "metadata": {
        "id": "Iin1L8BxW3KK"
      }
    },
    {
      "cell_type": "code",
      "source": [
        "np.dot(row_vector, row_vector)"
      ],
      "metadata": {
        "colab": {
          "base_uri": "https://localhost:8080/"
        },
        "id": "pX3kTNKEXFNa",
        "outputId": "115e8a93-06f4-4759-a2b1-549d4fdeb464"
      },
      "execution_count": null,
      "outputs": [
        {
          "output_type": "execute_result",
          "data": {
            "text/plain": [
              "14"
            ]
          },
          "metadata": {},
          "execution_count": 71
        }
      ]
    },
    {
      "cell_type": "markdown",
      "source": [
        "Column vectors can also be created using two-dimensional arrays. *Use None to add a new axis.*"
      ],
      "metadata": {
        "id": "VZPG2WuOUDW7"
      }
    },
    {
      "cell_type": "code",
      "source": [
        "column_vector = row_vector[:, None]\n",
        "column_vector"
      ],
      "metadata": {
        "colab": {
          "base_uri": "https://localhost:8080/"
        },
        "id": "f9a9nR__UC-9",
        "outputId": "495de632-56ca-4066-efca-ce508a3216e6"
      },
      "execution_count": null,
      "outputs": [
        {
          "output_type": "execute_result",
          "data": {
            "text/plain": [
              "array([[1],\n",
              "       [2],\n",
              "       [3]])"
            ]
          },
          "metadata": {},
          "execution_count": 72
        }
      ]
    },
    {
      "cell_type": "code",
      "source": [
        "# recall that slicing creates a view of the tensor, not a copy\n",
        "row_vector[0] = 0\n",
        "column_vector"
      ],
      "metadata": {
        "colab": {
          "base_uri": "https://localhost:8080/"
        },
        "id": "6T3FuTz9Uoo8",
        "outputId": "af6f1647-b035-4e78-8902-1e97915c2ee5"
      },
      "execution_count": null,
      "outputs": [
        {
          "output_type": "execute_result",
          "data": {
            "text/plain": [
              "array([[0],\n",
              "       [2],\n",
              "       [3]])"
            ]
          },
          "metadata": {},
          "execution_count": 73
        }
      ]
    },
    {
      "cell_type": "markdown",
      "source": [
        "Similarly, matrix multiplication can be performed using the `dot` function. Even though NumPy's underlying implementation is different, its `matmul` function behaves exactly the same.\n",
        "\n",
        "Given $X \\in R^{n \\times d}$ and $Y \\in R^{d \\times v}$, their matrix multiplication $Z \\in R^{n \\times v}$ is defined as:\n",
        "\n",
        "$$ \\sum_{k=0}^{d} x_{ik} y_{kj} = z_{ij} $$"
      ],
      "metadata": {
        "id": "TY1GiWgKVlUL"
      }
    },
    {
      "cell_type": "code",
      "source": [
        "matrix = np.array([[1, 2, 3],\n",
        "                   [4, 5, 6]])\n",
        "np.matmul(matrix, column_vector)"
      ],
      "metadata": {
        "colab": {
          "base_uri": "https://localhost:8080/"
        },
        "id": "dpLdRDrFVwi2",
        "outputId": "42a10b4f-7e26-4105-e813-98d87d73c8cd"
      },
      "execution_count": null,
      "outputs": [
        {
          "output_type": "execute_result",
          "data": {
            "text/plain": [
              "array([[13],\n",
              "       [28]])"
            ]
          },
          "metadata": {},
          "execution_count": 74
        }
      ]
    },
    {
      "cell_type": "markdown",
      "source": [
        "Broadcasting allows us to perfom anyway matrix multiplication even if the dimensions of matrices and one-dimensional arrays do not match exactly. The only different is the **output** shape."
      ],
      "metadata": {
        "id": "yT8B-z6iZg64"
      }
    },
    {
      "cell_type": "code",
      "source": [
        "np.matmul(matrix, row_vector)"
      ],
      "metadata": {
        "colab": {
          "base_uri": "https://localhost:8080/"
        },
        "id": "X4hGYSacV4iX",
        "outputId": "d185a752-e5af-4125-cfd9-e39ae7607846"
      },
      "execution_count": null,
      "outputs": [
        {
          "output_type": "execute_result",
          "data": {
            "text/plain": [
              "array([13, 28])"
            ]
          },
          "metadata": {},
          "execution_count": 75
        }
      ]
    },
    {
      "cell_type": "markdown",
      "source": [
        "Obviously, matrix multiplication can also be performed between two matrices:"
      ],
      "metadata": {
        "id": "0RVk1YoMaa1n"
      }
    },
    {
      "cell_type": "code",
      "source": [
        "np.matmul(matrix, matrix.T)"
      ],
      "metadata": {
        "colab": {
          "base_uri": "https://localhost:8080/"
        },
        "id": "RW6Am9LraaZe",
        "outputId": "eb449683-95a8-4403-f660-29fb05ad161b"
      },
      "execution_count": null,
      "outputs": [
        {
          "output_type": "execute_result",
          "data": {
            "text/plain": [
              "array([[14, 32],\n",
              "       [32, 77]])"
            ]
          },
          "metadata": {},
          "execution_count": 76
        }
      ]
    },
    {
      "cell_type": "markdown",
      "source": [
        "Note that the operator `@` is overloaded by NumPy to perform matrix multiplication"
      ],
      "metadata": {
        "id": "6aSBp-xWaoQz"
      }
    },
    {
      "cell_type": "code",
      "source": [
        "matrix @ matrix.T"
      ],
      "metadata": {
        "colab": {
          "base_uri": "https://localhost:8080/"
        },
        "id": "Wi1__ONualQd",
        "outputId": "13168885-fe61-427b-9882-f96916e29506"
      },
      "execution_count": null,
      "outputs": [
        {
          "output_type": "execute_result",
          "data": {
            "text/plain": [
              "array([[14, 32],\n",
              "       [32, 77]])"
            ]
          },
          "metadata": {},
          "execution_count": 77
        }
      ]
    },
    {
      "cell_type": "markdown",
      "source": [
        "It is possible also to compute batched matrix multiplication:\n",
        "\n",
        "Given two 3D tensors, each one containing ``b`` matrices,\n",
        "$X \\in R^{b \\times n \\times m}$\n",
        "and  \n",
        "$Y \\in R^{b \\times m \\times p}$,\n",
        "\n",
        "We want to multiply together each $i$-th couple of matrices, obtaining a tensor $Z \\in R^{b \\times n \\times p}$ defined as:\n",
        "\n",
        "$$ z_{bij} = \\sum_{k=0}^m x_{bik} y_{bkj} $$"
      ],
      "metadata": {
        "id": "DEpr2pkabHy9"
      }
    },
    {
      "cell_type": "code",
      "source": [
        "bm = np.array([[[1, 2], [3, 4], [5, 6]], [[1, 2], [3, 4], [5, 6]]])\n",
        "m = np.array([[[1, 2], [2, 1]], [[1, 2], [2, 1]]])"
      ],
      "metadata": {
        "id": "PWrfFrNpbNgV"
      },
      "execution_count": null,
      "outputs": []
    },
    {
      "cell_type": "code",
      "source": [
        "bm"
      ],
      "metadata": {
        "colab": {
          "base_uri": "https://localhost:8080/"
        },
        "id": "Tzrp-dU6bZ5o",
        "outputId": "2c44d0ee-88c0-4d36-8cd7-08ef770b56f5"
      },
      "execution_count": null,
      "outputs": [
        {
          "output_type": "execute_result",
          "data": {
            "text/plain": [
              "array([[[1, 2],\n",
              "        [3, 4],\n",
              "        [5, 6]],\n",
              "\n",
              "       [[1, 2],\n",
              "        [3, 4],\n",
              "        [5, 6]]])"
            ]
          },
          "metadata": {},
          "execution_count": 79
        }
      ]
    },
    {
      "cell_type": "code",
      "source": [
        "m"
      ],
      "metadata": {
        "colab": {
          "base_uri": "https://localhost:8080/"
        },
        "id": "GmH81jSLbat8",
        "outputId": "e6d91610-2a90-4492-bbe1-06eb06219d7f"
      },
      "execution_count": null,
      "outputs": [
        {
          "output_type": "execute_result",
          "data": {
            "text/plain": [
              "array([[[1, 2],\n",
              "        [2, 1]],\n",
              "\n",
              "       [[1, 2],\n",
              "        [2, 1]]])"
            ]
          },
          "metadata": {},
          "execution_count": 80
        }
      ]
    },
    {
      "cell_type": "code",
      "source": [
        "bm @ m"
      ],
      "metadata": {
        "colab": {
          "base_uri": "https://localhost:8080/"
        },
        "id": "zFf3iyWKbWAB",
        "outputId": "1336a192-9312-417a-a63a-f341ea98792e"
      },
      "execution_count": null,
      "outputs": [
        {
          "output_type": "execute_result",
          "data": {
            "text/plain": [
              "array([[[ 5,  4],\n",
              "        [11, 10],\n",
              "        [17, 16]],\n",
              "\n",
              "       [[ 5,  4],\n",
              "        [11, 10],\n",
              "        [17, 16]]])"
            ]
          },
          "metadata": {},
          "execution_count": 81
        }
      ]
    },
    {
      "cell_type": "markdown",
      "source": [
        "### Excerices\n",
        "\n",
        "1. Given a tensor `np.arange(2*3*2).reshape(2,3,2)` with shape `(2, 3, 2)` representing $2$ different $3\\times2$ matrices and two matrices `l1 = np.array([0,1])` and `l2 = np.array([1,0.5])` representing two different linear transformations (element swap and halves of the second element, respectively). Apply both the transformations to the batched matrices. *Hint:* Look at the rules of broadcasting."
      ],
      "metadata": {
        "id": "A36w1KBcvV_l"
      }
    },
    {
      "cell_type": "markdown",
      "source": [
        "### PyTorch\n",
        "\n",
        "As previously anticipated, all the explained rules hold for PyTorch tensors as well. Here, we present one heavily used pytorch function in machine learning whose behaviour is different than Numpy. In general, the way-to-go is to always look at the respective documentations if in doubt:\n",
        "- [Numpy doc](https://numpy.org/doc/stable/reference/index.html#reference)\n",
        "- [PyTorch doc](https://pytorch.org/docs/stable/index.html)"
      ],
      "metadata": {
        "id": "BrAZFK4gfBhe"
      }
    },
    {
      "cell_type": "code",
      "source": [
        "t = torch.tensor([[3.1415926, 2.71828], [1.61803, 0.0072897]])\n",
        "t"
      ],
      "metadata": {
        "colab": {
          "base_uri": "https://localhost:8080/"
        },
        "id": "gztFsvRqxOkb",
        "outputId": "05185d63-ccfa-45dc-c413-b5887e72c681"
      },
      "execution_count": null,
      "outputs": [
        {
          "output_type": "execute_result",
          "data": {
            "text/plain": [
              "tensor([[3.1416, 2.7183],\n",
              "        [1.6180, 0.0073]])"
            ]
          },
          "metadata": {},
          "execution_count": 82
        }
      ]
    },
    {
      "cell_type": "markdown",
      "source": [
        "In **Pytorch**, it is possible to easily convert to/from NumPy tensors"
      ],
      "metadata": {
        "id": "RkAxjACR_mjW"
      }
    },
    {
      "cell_type": "code",
      "source": [
        "t = torch.ones((3, 3), dtype=torch.float32)\n",
        "t.numpy()"
      ],
      "metadata": {
        "colab": {
          "base_uri": "https://localhost:8080/"
        },
        "id": "MYtXA3ll_cU_",
        "outputId": "257095a3-628d-4a27-931a-8dc0792a9f5a"
      },
      "execution_count": null,
      "outputs": [
        {
          "output_type": "execute_result",
          "data": {
            "text/plain": [
              "array([[1., 1., 1.],\n",
              "       [1., 1., 1.],\n",
              "       [1., 1., 1.]], dtype=float32)"
            ]
          },
          "metadata": {},
          "execution_count": 83
        }
      ]
    },
    {
      "cell_type": "code",
      "source": [
        "n = np.zeros((3,3)).astype(np.float16)\n",
        "torch.from_numpy(n)"
      ],
      "metadata": {
        "colab": {
          "base_uri": "https://localhost:8080/"
        },
        "id": "vx9kc3YA_wZN",
        "outputId": "2a7aa929-341f-4997-b591-ccf56d5373aa"
      },
      "execution_count": null,
      "outputs": [
        {
          "output_type": "execute_result",
          "data": {
            "text/plain": [
              "tensor([[0., 0., 0.],\n",
              "        [0., 0., 0.],\n",
              "        [0., 0., 0.]], dtype=torch.float16)"
            ]
          },
          "metadata": {},
          "execution_count": 84
        }
      ]
    },
    {
      "cell_type": "markdown",
      "source": [
        "**NB:** In PyTorch the `transpose` function swaps just two dimensions"
      ],
      "metadata": {
        "id": "VDdnUtPoElBG"
      }
    },
    {
      "cell_type": "code",
      "source": [
        "a = torch.arange(10).reshape(2, 5)\n",
        "a"
      ],
      "metadata": {
        "colab": {
          "base_uri": "https://localhost:8080/"
        },
        "id": "taLJvAkdFGvD",
        "outputId": "a82f1d49-6c27-4df2-9624-6652792a18ef"
      },
      "execution_count": null,
      "outputs": [
        {
          "output_type": "execute_result",
          "data": {
            "text/plain": [
              "tensor([[0, 1, 2, 3, 4],\n",
              "        [5, 6, 7, 8, 9]])"
            ]
          },
          "metadata": {},
          "execution_count": 85
        }
      ]
    },
    {
      "cell_type": "code",
      "source": [
        "a.transpose(0,1)"
      ],
      "metadata": {
        "colab": {
          "base_uri": "https://localhost:8080/"
        },
        "id": "WnONnKQgFJ6h",
        "outputId": "049b85f0-5310-4dd5-fc33-f5b3657579a2"
      },
      "execution_count": null,
      "outputs": [
        {
          "output_type": "execute_result",
          "data": {
            "text/plain": [
              "tensor([[0, 5],\n",
              "        [1, 6],\n",
              "        [2, 7],\n",
              "        [3, 8],\n",
              "        [4, 9]])"
            ]
          },
          "metadata": {},
          "execution_count": 86
        }
      ]
    },
    {
      "cell_type": "markdown",
      "source": [
        "### The vectorized Fibonacci\n",
        "\n",
        "Now we try to solve the Fibonacci exercise with a linear algebraic approach.\n",
        "First we use the equation:\n",
        "\n",
        "$$f(i) = f(i - 1) + f(i - 2)$$\n",
        "\n",
        "and we write the combination as a matrix format\n",
        "\n",
        "$$ \\begin{pmatrix} f_{i} \\\\ f_{i-1} \\end{pmatrix} = \\begin{pmatrix} 1 & 1 \\\\ 1 & 0 \\end{pmatrix} \\begin{pmatrix} f_{i-1} \\\\ f_{i-2} \\end{pmatrix}$$"
      ],
      "metadata": {
        "id": "BkKeqwoaPX9n"
      }
    },
    {
      "cell_type": "code",
      "source": [
        "vec = torch.tensor([[1.], [0.]])\n",
        "coef = torch.tensor([[1., 1.], [1., 0.]])\n",
        "\n",
        "coef @ (coef @ (coef @ vec))"
      ],
      "metadata": {
        "id": "MF_AcXwDPXh_",
        "outputId": "06d143df-9827-4b35-ec92-feb9147924d5",
        "colab": {
          "base_uri": "https://localhost:8080/"
        }
      },
      "execution_count": null,
      "outputs": [
        {
          "output_type": "execute_result",
          "data": {
            "text/plain": [
              "tensor([[3.],\n",
              "        [2.]])"
            ]
          },
          "metadata": {},
          "execution_count": 87
        }
      ]
    },
    {
      "cell_type": "markdown",
      "source": [
        "Now there are many ways to reach the result:\n",
        "\n",
        "1. `for` loop\n",
        "2. Matrix power\n",
        "3. Eigen decomposition\n",
        "4. ..."
      ],
      "metadata": {
        "id": "8cQuVRm6Rt6-"
      }
    },
    {
      "cell_type": "markdown",
      "source": [
        "#### 1. `for` loop:"
      ],
      "metadata": {
        "id": "flvgAB_u1488"
      }
    },
    {
      "cell_type": "code",
      "source": [
        "n = 10\n",
        "res = vec.clone()\n",
        "for _ in range(n):\n",
        "  res = coef @ res\n",
        "res"
      ],
      "metadata": {
        "id": "sgfK_Qf0Rs-i",
        "outputId": "1e7673e0-db49-4f01-f832-550722ebce8c",
        "colab": {
          "base_uri": "https://localhost:8080/"
        }
      },
      "execution_count": null,
      "outputs": [
        {
          "output_type": "execute_result",
          "data": {
            "text/plain": [
              "tensor([[89.],\n",
              "        [55.]])"
            ]
          },
          "metadata": {},
          "execution_count": 88
        }
      ]
    },
    {
      "cell_type": "markdown",
      "source": [
        "#### 2. Matrix Power"
      ],
      "metadata": {
        "id": "wvjMnJNB1_Hg"
      }
    },
    {
      "cell_type": "code",
      "source": [
        "n = 10\n",
        "coef_n = torch.matrix_power(coef, n)\n",
        "res = coef_n @ vec\n",
        "res"
      ],
      "metadata": {
        "id": "W2TUa40qRs8M",
        "outputId": "d3ad020a-0967-41a0-9efc-6a9af6ff9516",
        "colab": {
          "base_uri": "https://localhost:8080/"
        }
      },
      "execution_count": null,
      "outputs": [
        {
          "output_type": "execute_result",
          "data": {
            "text/plain": [
              "tensor([[89.],\n",
              "        [55.]])"
            ]
          },
          "metadata": {},
          "execution_count": 89
        }
      ]
    },
    {
      "cell_type": "markdown",
      "source": [
        "#### 3. Eigen decomposition\n",
        "\n",
        "Leveragin the change of basis, Fibonacci can be computed performing an eigen decomposition. In particular:\n",
        "\n",
        "$$ \\begin{pmatrix} f_{i} \\\\ f_{i-1} \\end{pmatrix} = \\Sigma (\\lambda \\mathbf{I}) ^n \\Sigma^{-1}\\begin{pmatrix} f_{i-1} \\\\ f_{i-2} \\end{pmatrix}$$"
      ],
      "metadata": {
        "id": "WWDLxapa2Ctf"
      }
    },
    {
      "cell_type": "code",
      "source": [
        "n = 10\n",
        "eig_vals, eig_vecs = torch.linalg.eig(coef)\n",
        "P = (eig_vecs @ torch.matrix_power(torch.diag(eig_vals), n) @ torch.inverse(eig_vecs)).real\n",
        "P @ vec"
      ],
      "metadata": {
        "id": "lSemFJwoRs5o",
        "outputId": "9089a7d6-ae38-4be1-8544-bbddcb6bd3b7",
        "colab": {
          "base_uri": "https://localhost:8080/"
        }
      },
      "execution_count": null,
      "outputs": [
        {
          "output_type": "stream",
          "name": "stderr",
          "text": [
            "<ipython-input-90-7e4ca8735c24>:3: UserWarning: Casting complex values to real discards the imaginary part (Triggered internally at ../aten/src/ATen/native/Copy.cpp:301.)\n",
            "  P = (eig_vecs @ torch.matrix_power(torch.diag(eig_vals), n) @ torch.inverse(eig_vecs)).float()\n"
          ]
        },
        {
          "output_type": "execute_result",
          "data": {
            "text/plain": [
              "tensor([[89.0000],\n",
              "        [55.0000]])"
            ]
          },
          "metadata": {},
          "execution_count": 90
        }
      ]
    },
    {
      "cell_type": "markdown",
      "source": [
        "## Loading Different Data\n",
        "\n",
        "In Machine Learning most of the time you will deal with data. [scikit-learn](https://scikit-learn.org/stable/modules/classes.html) is a python library for solving machine learning problems (supervised, unsupervised, ...), manily built on Numpy. It provides some datasets, models and API to easily play around with different ML pipelines.\n",
        "\n",
        "In the following, we:\n",
        "* load a dataset called iris\n",
        "* plot some dimensional slice of the mentioned data\n",
        "* filter the datapoints based on target class\n",
        "* try to compute some arithmetic operations with it"
      ],
      "metadata": {
        "id": "4buf5P27WCCo"
      }
    },
    {
      "cell_type": "code",
      "source": [
        "from sklearn.datasets import load_iris\n",
        "import matplotlib.pyplot as plt"
      ],
      "metadata": {
        "id": "LcR74zzeWATZ"
      },
      "execution_count": null,
      "outputs": []
    },
    {
      "cell_type": "markdown",
      "source": [
        "Let's first load the Iris dataset, look at the description and show some features."
      ],
      "metadata": {
        "id": "whWoyvi_rLIe"
      }
    },
    {
      "cell_type": "code",
      "source": [
        "iris_dataset = load_iris()\n",
        "iris_dataset.keys()"
      ],
      "metadata": {
        "id": "Q_O3Pj2pWAMF",
        "outputId": "f5b3f757-8843-4865-8f35-0298f9958a20",
        "colab": {
          "base_uri": "https://localhost:8080/"
        }
      },
      "execution_count": null,
      "outputs": [
        {
          "output_type": "execute_result",
          "data": {
            "text/plain": [
              "dict_keys(['data', 'target', 'frame', 'target_names', 'DESCR', 'feature_names', 'filename', 'data_module'])"
            ]
          },
          "metadata": {},
          "execution_count": 92
        }
      ]
    },
    {
      "cell_type": "code",
      "source": [
        "print(iris_dataset.DESCR)"
      ],
      "metadata": {
        "colab": {
          "base_uri": "https://localhost:8080/"
        },
        "id": "NHuJYLYqCFP9",
        "outputId": "de441b2a-4b43-43f6-8c93-2bd8dd3bc903"
      },
      "execution_count": null,
      "outputs": [
        {
          "output_type": "stream",
          "name": "stdout",
          "text": [
            ".. _iris_dataset:\n",
            "\n",
            "Iris plants dataset\n",
            "--------------------\n",
            "\n",
            "**Data Set Characteristics:**\n",
            "\n",
            "    :Number of Instances: 150 (50 in each of three classes)\n",
            "    :Number of Attributes: 4 numeric, predictive attributes and the class\n",
            "    :Attribute Information:\n",
            "        - sepal length in cm\n",
            "        - sepal width in cm\n",
            "        - petal length in cm\n",
            "        - petal width in cm\n",
            "        - class:\n",
            "                - Iris-Setosa\n",
            "                - Iris-Versicolour\n",
            "                - Iris-Virginica\n",
            "                \n",
            "    :Summary Statistics:\n",
            "\n",
            "    ============== ==== ==== ======= ===== ====================\n",
            "                    Min  Max   Mean    SD   Class Correlation\n",
            "    ============== ==== ==== ======= ===== ====================\n",
            "    sepal length:   4.3  7.9   5.84   0.83    0.7826\n",
            "    sepal width:    2.0  4.4   3.05   0.43   -0.4194\n",
            "    petal length:   1.0  6.9   3.76   1.76    0.9490  (high!)\n",
            "    petal width:    0.1  2.5   1.20   0.76    0.9565  (high!)\n",
            "    ============== ==== ==== ======= ===== ====================\n",
            "\n",
            "    :Missing Attribute Values: None\n",
            "    :Class Distribution: 33.3% for each of 3 classes.\n",
            "    :Creator: R.A. Fisher\n",
            "    :Donor: Michael Marshall (MARSHALL%PLU@io.arc.nasa.gov)\n",
            "    :Date: July, 1988\n",
            "\n",
            "The famous Iris database, first used by Sir R.A. Fisher. The dataset is taken\n",
            "from Fisher's paper. Note that it's the same as in R, but not as in the UCI\n",
            "Machine Learning Repository, which has two wrong data points.\n",
            "\n",
            "This is perhaps the best known database to be found in the\n",
            "pattern recognition literature.  Fisher's paper is a classic in the field and\n",
            "is referenced frequently to this day.  (See Duda & Hart, for example.)  The\n",
            "data set contains 3 classes of 50 instances each, where each class refers to a\n",
            "type of iris plant.  One class is linearly separable from the other 2; the\n",
            "latter are NOT linearly separable from each other.\n",
            "\n",
            ".. topic:: References\n",
            "\n",
            "   - Fisher, R.A. \"The use of multiple measurements in taxonomic problems\"\n",
            "     Annual Eugenics, 7, Part II, 179-188 (1936); also in \"Contributions to\n",
            "     Mathematical Statistics\" (John Wiley, NY, 1950).\n",
            "   - Duda, R.O., & Hart, P.E. (1973) Pattern Classification and Scene Analysis.\n",
            "     (Q327.D83) John Wiley & Sons.  ISBN 0-471-22361-1.  See page 218.\n",
            "   - Dasarathy, B.V. (1980) \"Nosing Around the Neighborhood: A New System\n",
            "     Structure and Classification Rule for Recognition in Partially Exposed\n",
            "     Environments\".  IEEE Transactions on Pattern Analysis and Machine\n",
            "     Intelligence, Vol. PAMI-2, No. 1, 67-71.\n",
            "   - Gates, G.W. (1972) \"The Reduced Nearest Neighbor Rule\".  IEEE Transactions\n",
            "     on Information Theory, May 1972, 431-433.\n",
            "   - See also: 1988 MLC Proceedings, 54-64.  Cheeseman et al\"s AUTOCLASS II\n",
            "     conceptual clustering system finds 3 classes in the data.\n",
            "   - Many, many more ...\n"
          ]
        }
      ]
    },
    {
      "cell_type": "code",
      "source": [
        "iris_x = iris_dataset.data\n",
        "iris_y = iris_dataset.target\n",
        "\n",
        "iris_x.shape, iris_y.shape"
      ],
      "metadata": {
        "colab": {
          "base_uri": "https://localhost:8080/"
        },
        "id": "2k7vclj8ByUp",
        "outputId": "d9c33aa4-bb7c-4124-ed7b-43373066127b"
      },
      "execution_count": null,
      "outputs": [
        {
          "output_type": "execute_result",
          "data": {
            "text/plain": [
              "((150, 4), (150,))"
            ]
          },
          "metadata": {},
          "execution_count": 94
        }
      ]
    },
    {
      "cell_type": "markdown",
      "source": [
        "Let's look at the correlation between the first and second dimension of the features"
      ],
      "metadata": {
        "id": "kITBUs3KB8jv"
      }
    },
    {
      "cell_type": "code",
      "source": [
        "# @title 👀 Solution\n",
        "\n",
        "first_dim = iris_x[:, 0]\n",
        "second_dim = iris_x[:, 1]"
      ],
      "metadata": {
        "cellView": "form",
        "id": "5ulI83I0CRpZ"
      },
      "execution_count": null,
      "outputs": []
    },
    {
      "cell_type": "code",
      "source": [
        "plt.scatter(first_dim, second_dim, c=iris_y)"
      ],
      "metadata": {
        "id": "ibeAxCK9WuAV",
        "outputId": "6d496edf-560e-425e-8e3c-8bb00f98c005",
        "colab": {
          "base_uri": "https://localhost:8080/",
          "height": 450
        }
      },
      "execution_count": null,
      "outputs": [
        {
          "output_type": "execute_result",
          "data": {
            "text/plain": [
              "<matplotlib.collections.PathCollection at 0x7f03de034e80>"
            ]
          },
          "metadata": {},
          "execution_count": 96
        },
        {
          "output_type": "display_data",
          "data": {
            "text/plain": [
              "<Figure size 640x480 with 1 Axes>"
            ],
            "image/png": "[encoded data removed]"
          },
          "metadata": {}
        }
      ]
    },
    {
      "cell_type": "markdown",
      "source": [
        "Select only the points belonging to class `1`"
      ],
      "metadata": {
        "id": "jUNstJWRrdjF"
      }
    },
    {
      "cell_type": "code",
      "source": [
        "# @title 👀 Solution\n",
        "\n",
        "cls_mask = iris_y == 1\n",
        "\n",
        "first_dim = iris_x[cls_mask, 0]\n",
        "second_dim = iris_x[cls_mask, 1]"
      ],
      "metadata": {
        "cellView": "form",
        "id": "N6JJ2bLSCiwn"
      },
      "execution_count": null,
      "outputs": []
    },
    {
      "cell_type": "code",
      "source": [
        "plt.scatter(first_dim, second_dim)"
      ],
      "metadata": {
        "id": "VGT-XiGmWt-R",
        "outputId": "19099e85-4fd3-40b1-93d0-1040ecd77736",
        "colab": {
          "base_uri": "https://localhost:8080/",
          "height": 447
        }
      },
      "execution_count": null,
      "outputs": [
        {
          "output_type": "execute_result",
          "data": {
            "text/plain": [
              "<matplotlib.collections.PathCollection at 0x7f03dbf37760>"
            ]
          },
          "metadata": {},
          "execution_count": 98
        },
        {
          "output_type": "display_data",
          "data": {
            "text/plain": [
              "<Figure size 640x480 with 1 Axes>"
            ],
            "image/png": "[encoded data removed]"
          },
          "metadata": {}
        }
      ]
    },
    {
      "cell_type": "code",
      "source": [
        "iris_x[iris_y == 0].mean(axis=0)"
      ],
      "metadata": {
        "colab": {
          "base_uri": "https://localhost:8080/"
        },
        "id": "YNP9GdIp1tCP",
        "outputId": "e772e6ee-fbcc-4122-9e84-b734921bb9ff"
      },
      "execution_count": null,
      "outputs": [
        {
          "output_type": "execute_result",
          "data": {
            "text/plain": [
              "array([5.006, 3.428, 1.462, 0.246])"
            ]
          },
          "metadata": {},
          "execution_count": 99
        }
      ]
    },
    {
      "cell_type": "code",
      "source": [
        "np.concatenate([iris_x[iris_y == i].mean(axis=0) for i in range(iris_y.max() + 1)])"
      ],
      "metadata": {
        "colab": {
          "base_uri": "https://localhost:8080/"
        },
        "id": "5QPJPB9F1s8t",
        "outputId": "2ed29899-a781-4f17-8255-adce3470a3c0"
      },
      "execution_count": null,
      "outputs": [
        {
          "output_type": "execute_result",
          "data": {
            "text/plain": [
              "array([5.006, 3.428, 1.462, 0.246, 5.936, 2.77 , 4.26 , 1.326, 6.588,\n",
              "       2.974, 5.552, 2.026])"
            ]
          },
          "metadata": {},
          "execution_count": 100
        }
      ]
    },
    {
      "cell_type": "markdown",
      "source": [
        "Now, compute the expected feature vector for each class, then show how far each point of that class is from the center."
      ],
      "metadata": {
        "id": "rSZqvUMPrsWS"
      }
    },
    {
      "cell_type": "code",
      "source": [
        "# @title 👀 Solution\n",
        "means = np.stack([iris_x[iris_y == i].mean(axis=0) for i in range(iris_y.max() + 1)])\n",
        "\n",
        "# Advanced\n",
        "# Pandas is another python library for data analysyis (https://pandas.pydata.org/docs/reference/api/pandas.DataFrame.html)\n",
        "\n",
        "# import pandas as pd\n",
        "\n",
        "# iris_df = pd.DataFrame(iris_x)\n",
        "# iris_df['label'] = iris_y\n",
        "\n",
        "# means = iris_df.groupby('label').mean().values"
      ],
      "metadata": {
        "cellView": "form",
        "id": "P2Op_r5EEEDc"
      },
      "execution_count": null,
      "outputs": []
    },
    {
      "cell_type": "code",
      "source": [
        "means"
      ],
      "metadata": {
        "id": "9J1JK4lDWt8I",
        "colab": {
          "base_uri": "https://localhost:8080/"
        },
        "outputId": "2e05920f-59e6-4962-d716-502442bd6702"
      },
      "execution_count": null,
      "outputs": [
        {
          "output_type": "execute_result",
          "data": {
            "text/plain": [
              "array([[5.006, 3.428, 1.462, 0.246],\n",
              "       [5.936, 2.77 , 4.26 , 1.326],\n",
              "       [6.588, 2.974, 5.552, 2.026]])"
            ]
          },
          "metadata": {},
          "execution_count": 102
        }
      ]
    },
    {
      "cell_type": "code",
      "source": [
        "plt.scatter(iris_x[:, 2], iris_x[:, 1], c=iris_y)\n",
        "plt.scatter(means[:, 2], means[:, 1], color=\"red\")"
      ],
      "metadata": {
        "id": "Ave9SxoeWt5p",
        "colab": {
          "base_uri": "https://localhost:8080/",
          "height": 450
        },
        "outputId": "df9a1099-7a19-4730-ab59-2ddfa6ed895a"
      },
      "execution_count": null,
      "outputs": [
        {
          "output_type": "execute_result",
          "data": {
            "text/plain": [
              "<matplotlib.collections.PathCollection at 0x7f03dbf8e560>"
            ]
          },
          "metadata": {},
          "execution_count": 103
        },
        {
          "output_type": "display_data",
          "data": {
            "text/plain": [
              "<Figure size 640x480 with 1 Axes>"
            ],
            "image/png": "[encoded data removed]"
          },
          "metadata": {}
        }
      ]
    },
    {
      "cell_type": "markdown",
      "source": [
        "As distances, we can consider the $\\ell_2$ norm\n",
        "\n",
        "$$\n",
        "\\|\\mathbf{x}\\|_2=\\left[\\sum_{k} a b s\\left(a_{k}\\right)^2\\right]^{1 / 2}\n",
        "$$"
      ],
      "metadata": {
        "id": "pR5uuAV3FQjb"
      }
    },
    {
      "cell_type": "code",
      "source": [
        "class_dist = np.linalg.norm(iris_x[iris_y == 0] - means[0], axis=1)\n",
        "other_class_dist = np.linalg.norm(iris_x[iris_y != 0] - means[0], axis=1)"
      ],
      "metadata": {
        "id": "E0mV_H9mWtxf"
      },
      "execution_count": null,
      "outputs": []
    },
    {
      "cell_type": "code",
      "source": [
        "binwidth = 0.25\n",
        "bins = np.arange(min(class_dist.min(), other_class_dist.min()), max(class_dist.max(), other_class_dist.max()) + binwidth, binwidth)\n",
        "\n",
        "counts, bins, _ = plt.hist(class_dist, bins=bins)\n",
        "other_counts, other_bins, _ = plt.hist(other_class_dist, bins=bins, color=\"orange\")"
      ],
      "metadata": {
        "colab": {
          "base_uri": "https://localhost:8080/",
          "height": 432
        },
        "id": "RJ3aPs87lCPo",
        "outputId": "94b60f40-cbb0-47e8-a1d3-2155344cfca7"
      },
      "execution_count": null,
      "outputs": [
        {
          "output_type": "display_data",
          "data": {
            "text/plain": [
              "<Figure size 640x480 with 1 Axes>"
            ],
            "image/png": "[encoded data removed]"
          },
          "metadata": {}
        }
      ]
    },
    {
      "cell_type": "markdown",
      "source": [
        "Apply the min max normalization over the data\n",
        "$$n = \\frac{x - min(x)}{max(x) - min(x)}$$"
      ],
      "metadata": {
        "id": "COI5l8Uwtq6z"
      }
    },
    {
      "cell_type": "code",
      "source": [
        "# @title 👀 Solution\n",
        "iris_x_normal = (iris_x - iris_x.min(axis=0)) / (iris_x.max(axis=0) - iris_x.min(axis=0))"
      ],
      "metadata": {
        "cellView": "form",
        "id": "Xg9XGLiJGgmu"
      },
      "execution_count": null,
      "outputs": []
    },
    {
      "cell_type": "code",
      "source": [
        "plt.scatter(iris_x_normal[:, 0], iris_x_normal[:, 1], c=iris_y)"
      ],
      "metadata": {
        "colab": {
          "base_uri": "https://localhost:8080/",
          "height": 447
        },
        "id": "c10OwPmuqfdc",
        "outputId": "05017a9b-443d-4364-a619-f3cd2a0f5f05"
      },
      "execution_count": null,
      "outputs": [
        {
          "output_type": "execute_result",
          "data": {
            "text/plain": [
              "<matplotlib.collections.PathCollection at 0x7f03dbd33070>"
            ]
          },
          "metadata": {},
          "execution_count": 107
        },
        {
          "output_type": "display_data",
          "data": {
            "text/plain": [
              "<Figure size 640x480 with 1 Axes>"
            ],
            "image/png": "[encoded data removed]"
          },
          "metadata": {}
        }
      ]
    },
    {
      "cell_type": "markdown",
      "source": [
        "## Graph Adjacency Matrix"
      ],
      "metadata": {
        "id": "E0p0MuJdfr7c"
      }
    },
    {
      "cell_type": "markdown",
      "source": [
        "When dealing with graph data, you can instead using the [NetworkX](https://networkx.org/documentation/stable/) library, which provides built in function for plotting graphs along with other operations (like `connected_components`, ...)"
      ],
      "metadata": {
        "id": "BdgruZYfH8Vs"
      }
    },
    {
      "cell_type": "code",
      "source": [
        "import networkx as nx\n",
        "import matplotlib.pyplot as plt"
      ],
      "metadata": {
        "id": "z1XKSOppH747"
      },
      "execution_count": null,
      "outputs": []
    },
    {
      "cell_type": "code",
      "source": [
        "adjacency_matrix = (torch.rand(10, 10) < 0.1).float()\n",
        "adjacency_matrix"
      ],
      "metadata": {
        "id": "Tc0h6Lpic_fb",
        "colab": {
          "base_uri": "https://localhost:8080/"
        },
        "outputId": "77a931b2-a8c4-46d0-eb1c-b9a3b2d2a70c"
      },
      "execution_count": null,
      "outputs": [
        {
          "output_type": "execute_result",
          "data": {
            "text/plain": [
              "tensor([[0., 0., 0., 0., 0., 1., 0., 0., 0., 0.],\n",
              "        [0., 0., 0., 0., 0., 0., 0., 0., 0., 0.],\n",
              "        [1., 0., 0., 0., 0., 0., 0., 0., 0., 0.],\n",
              "        [0., 0., 0., 0., 0., 0., 0., 0., 0., 0.],\n",
              "        [0., 1., 0., 1., 0., 0., 0., 0., 0., 0.],\n",
              "        [0., 0., 0., 0., 0., 1., 0., 0., 0., 0.],\n",
              "        [0., 0., 0., 0., 0., 0., 0., 0., 0., 0.],\n",
              "        [0., 0., 0., 0., 0., 0., 0., 1., 0., 0.],\n",
              "        [0., 0., 0., 0., 0., 0., 1., 0., 0., 0.],\n",
              "        [0., 0., 0., 0., 0., 1., 0., 0., 0., 0.]])"
            ]
          },
          "metadata": {},
          "execution_count": 109
        }
      ]
    },
    {
      "cell_type": "code",
      "source": [
        "def show_graph_with_labels(adjacency_matrix):\n",
        "\n",
        "    rows, cols = adjacency_matrix.nonzero(as_tuple=True)\n",
        "    edges = zip(rows.tolist(), cols.tolist())\n",
        "\n",
        "    gr = nx.DiGraph()\n",
        "    gr.add_edges_from(edges)\n",
        "\n",
        "    nx.draw(gr, node_size=500, with_labels=True)"
      ],
      "metadata": {
        "id": "Q7qZ_1dWeY7m"
      },
      "execution_count": null,
      "outputs": []
    },
    {
      "cell_type": "code",
      "source": [
        "show_graph_with_labels(adjacency_matrix)"
      ],
      "metadata": {
        "colab": {
          "base_uri": "https://localhost:8080/",
          "height": 516
        },
        "id": "eBKWQqRke23x",
        "outputId": "970b6989-7ca7-4fc8-f15b-7ca1f5e24821"
      },
      "execution_count": null,
      "outputs": [
        {
          "output_type": "display_data",
          "data": {
            "text/plain": [
              "<Figure size 640x480 with 1 Axes>"
            ],
            "image/png": "[encoded data removed]"
          },
          "metadata": {}
        }
      ]
    }
  ]
}